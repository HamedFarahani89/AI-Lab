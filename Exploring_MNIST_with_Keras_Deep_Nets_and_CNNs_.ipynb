{
  "nbformat": 4,
  "nbformat_minor": 0,
  "metadata": {
    "colab": {
      "provenance": []
    },
    "kernelspec": {
      "name": "python3",
      "display_name": "Python 3"
    },
    "language_info": {
      "name": "python"
    }
  },
  "cells": [
    {
      "cell_type": "markdown",
      "source": [
        "### Procedure Structure\n",
        "\n",
        "Building a Deep Neural Network for solving machine learning tasks involves several steps:\n",
        "\n",
        "1. **Load and preprocess data**\n",
        "2. **Define model architecture**\n",
        "3. **Select optimizer and cost function**\n",
        "4. **Train the model**\n",
        "5. **Evaluate performance on test data**\n",
        "6. **Adjust hyperparameters for optimization**"
      ],
      "metadata": {
        "id": "dxgyV1oQpLLz"
      }
    },
    {
      "cell_type": "code",
      "source": [
        "!pip install keras==2.12.0"
      ],
      "metadata": {
        "colab": {
          "base_uri": "https://localhost:8080/",
          "height": 325
        },
        "id": "cYxiufIB51fy",
        "outputId": "c1e87aba-337b-4f87-8361-cf8ebfd8c502"
      },
      "execution_count": 21,
      "outputs": [
        {
          "output_type": "stream",
          "name": "stdout",
          "text": [
            "Collecting keras==2.12.0\n",
            "  Downloading keras-2.12.0-py2.py3-none-any.whl (1.7 MB)\n",
            "\u001b[2K     \u001b[90m━━━━━━━━━━━━━━━━━━━━━━━━━━━━━━━━━━━━━━━━\u001b[0m \u001b[32m1.7/1.7 MB\u001b[0m \u001b[31m14.2 MB/s\u001b[0m eta \u001b[36m0:00:00\u001b[0m\n",
            "\u001b[?25hInstalling collected packages: keras\n",
            "  Attempting uninstall: keras\n",
            "    Found existing installation: keras 2.15.0\n",
            "    Uninstalling keras-2.15.0:\n",
            "      Successfully uninstalled keras-2.15.0\n",
            "\u001b[31mERROR: pip's dependency resolver does not currently take into account all the packages that are installed. This behaviour is the source of the following dependency conflicts.\n",
            "tensorflow 2.15.0 requires keras<2.16,>=2.15.0, but you have keras 2.12.0 which is incompatible.\u001b[0m\u001b[31m\n",
            "\u001b[0mSuccessfully installed keras-2.12.0\n"
          ]
        },
        {
          "output_type": "display_data",
          "data": {
            "application/vnd.colab-display-data+json": {
              "pip_warning": {
                "packages": [
                  "keras"
                ]
              },
              "id": "22e27b2e68d740629219886d3553c599"
            }
          },
          "metadata": {}
        }
      ]
    },
    {
      "cell_type": "markdown",
      "source": [
        "### Data preprosessing"
      ],
      "metadata": {
        "id": "tQsmXvctmCR7"
      }
    },
    {
      "cell_type": "markdown",
      "source": [
        "### Summary: MNIST Dataset\n",
        "\n",
        "- **Dataset**: MNIST consists of 70,000 handwritten digits.\n",
        "- **Image Format**: Each digit is presented as a 28×28 pixel grid.\n",
        "- **Pixel Values**: The grayscale pixels range from 0 to 255.\n",
        "- **Classification Task**: With 10 categories corresponding to the ten digits."
      ],
      "metadata": {
        "id": "YCWIbm7uosiW"
      }
    },
    {
      "cell_type": "code",
      "execution_count": 1,
      "metadata": {
        "colab": {
          "base_uri": "https://localhost:8080/"
        },
        "id": "RBG1duMzev8v",
        "outputId": "58356383-2b2e-478f-f57b-5ea4609f4d58"
      },
      "outputs": [
        {
          "output_type": "stream",
          "name": "stdout",
          "text": [
            "Training set images shape: (60000, 28, 28)\n",
            "Training set labels shape: (60000,)\n",
            "Test set images shape: (10000, 28, 28)\n",
            "Test set labels shape: (10000,)\n"
          ]
        }
      ],
      "source": [
        "from keras.datasets import mnist\n",
        "\n",
        "# Load the MNIST dataset\n",
        "(X_train, Y_train), (X_test, Y_test) = mnist.load_data()\n",
        "\n",
        "# Get the shapes of the components\n",
        "print(\"Training set images shape:\", X_train.shape)\n",
        "print(\"Training set labels shape:\", Y_train.shape)\n",
        "print(\"Test set images shape:\", X_test.shape)\n",
        "print(\"Test set labels shape:\", Y_test.shape)\n"
      ]
    },
    {
      "cell_type": "code",
      "source": [
        "X_test[9]"
      ],
      "metadata": {
        "colab": {
          "base_uri": "https://localhost:8080/",
          "height": 68
        },
        "id": "zZTelvruiRNv",
        "outputId": "b84840f0-b6fa-427c-9f9d-470372ad97bd"
      },
      "execution_count": 2,
      "outputs": [
        {
          "output_type": "execute_result",
          "data": {
            "text/plain": [
              "array([[  0,   0,   0,   0,   0,   0,   0,   0,   0,   0,   0,   0,   0,\n",
              "          0,   0,   0,   0,   0,   0,   0,   0,   0,   0,   0,   0,   0,\n",
              "          0,   0],\n",
              "       [  0,   0,   0,   0,   0,   0,   0,   0,   0,   0,   0,   0,   0,\n",
              "          0,   0,   0,   0,   0,   0,   0,   0,   0,   0,   0,   0,   0,\n",
              "          0,   0],\n",
              "       [  0,   0,   0,   0,   0,   0,   0,   0,   0,   0,   0,   0,   0,\n",
              "          0,   0,   0,   0,   0,   0,   0,   0,   0,   0,   0,   0,   0,\n",
              "          0,   0],\n",
              "       [  0,   0,   0,   0,   0,   0,   0,   0,   0,   0,   0,   0,   0,\n",
              "          0,   0,   0,   0,   0,   0,   0,   0,   0,   0,   0,   0,   0,\n",
              "          0,   0],\n",
              "       [  0,   0,   0,   0,   0,   0,   0,   0,   0,   0,   0,   0,   0,\n",
              "          0,   0,   0,   0,   0,   0,   0,   0,   0,   0,   0,   0,   0,\n",
              "          0,   0],\n",
              "       [  0,   0,   0,   0,   0,   0,   0,   0,   0,   0,   0,   0,   0,\n",
              "          0,   0,   0,   0,   0,   0,   0,   0,   0,   0,   0,   0,   0,\n",
              "          0,   0],\n",
              "       [  0,   0,   0,   0,   0,   0,   0,   0,   0,   0,   0,   0,   0,\n",
              "          0,   0,   0,   0,   0,   0,   0,   0,   0,   0,   0,   0,   0,\n",
              "          0,   0],\n",
              "       [  0,   0,   0,   0,   0,   0,   0,   0,   0,   0,   0,   0,   0,\n",
              "         36,  56, 137, 201, 199,  95,  37,   0,   0,   0,   0,   0,   0,\n",
              "          0,   0],\n",
              "       [  0,   0,   0,   0,   0,   0,   0,   0,   0,   0,   0,  45, 152,\n",
              "        234, 254, 254, 254, 254, 254, 250, 211, 151,   6,   0,   0,   0,\n",
              "          0,   0],\n",
              "       [  0,   0,   0,   0,   0,   0,   0,   0,   0,  46, 153, 240, 254,\n",
              "        254, 227, 166, 133, 251, 200, 254, 229, 225, 104,   0,   0,   0,\n",
              "          0,   0],\n",
              "       [  0,   0,   0,   0,   0,   0,   0,   0, 153, 234, 254, 254, 187,\n",
              "        142,   8,   0,   0, 191,  40, 198, 246, 223, 253,  21,   0,   0,\n",
              "          0,   0],\n",
              "       [  0,   0,   0,   0,   0,   0,   8, 126, 253, 254, 233, 128,  11,\n",
              "          0,   0,   0,   0, 210,  43,  70, 254, 254, 254,  21,   0,   0,\n",
              "          0,   0],\n",
              "       [  0,   0,   0,   0,   0,   0,  72, 243, 254, 228,  54,   0,   0,\n",
              "          0,   0,   3,  32, 116, 225, 242, 254, 255, 162,   5,   0,   0,\n",
              "          0,   0],\n",
              "       [  0,   0,   0,   0,   0,   0,  75, 240, 254, 223, 109, 138, 178,\n",
              "        178, 169, 210, 251, 231, 254, 254, 254, 232,  38,   0,   0,   0,\n",
              "          0,   0],\n",
              "       [  0,   0,   0,   0,   0,   0,   9, 175, 244, 253, 255, 254, 254,\n",
              "        251, 254, 254, 254, 254, 254, 252, 171,  25,   0,   0,   0,   0,\n",
              "          0,   0],\n",
              "       [  0,   0,   0,   0,   0,   0,   0,   0,  16, 136, 195, 176, 146,\n",
              "        153, 200, 254, 254, 254, 254, 150,  16,   0,   0,   0,   0,   0,\n",
              "          0,   0],\n",
              "       [  0,   0,   0,   0,   0,   0,   0,   0,   0,   0,   0,   0,   0,\n",
              "          0, 162, 254, 254, 241,  99,   3,   0,   0,   0,   0,   0,   0,\n",
              "          0,   0],\n",
              "       [  0,   0,   0,   0,   0,   0,   0,   0,   0,   0,   0,   0,   0,\n",
              "        118, 250, 254, 254,  90,   0,   0,   0,   0,   0,   0,   0,   0,\n",
              "          0,   0],\n",
              "       [  0,   0,   0,   0,   0,   0,   0,   0,   0,   0,   0,   0, 100,\n",
              "        242, 254, 254, 211,   7,   0,   0,   0,   0,   0,   0,   0,   0,\n",
              "          0,   0],\n",
              "       [  0,   0,   0,   0,   0,   0,   0,   0,   0,   0,   0,  54, 241,\n",
              "        254, 254, 242,  59,   0,   0,   0,   0,   0,   0,   0,   0,   0,\n",
              "          0,   0],\n",
              "       [  0,   0,   0,   0,   0,   0,   0,   0,   0,   0,   0, 131, 254,\n",
              "        254, 244,  64,   0,   0,   0,   0,   0,   0,   0,   0,   0,   0,\n",
              "          0,   0],\n",
              "       [  0,   0,   0,   0,   0,   0,   0,   0,   0,   0,  13, 249, 254,\n",
              "        254, 152,   0,   0,   0,   0,   0,   0,   0,   0,   0,   0,   0,\n",
              "          0,   0],\n",
              "       [  0,   0,   0,   0,   0,   0,   0,   0,   0,  12, 228, 254, 254,\n",
              "        208,   8,   0,   0,   0,   0,   0,   0,   0,   0,   0,   0,   0,\n",
              "          0,   0],\n",
              "       [  0,   0,   0,   0,   0,   0,   0,   0,   0,  78, 255, 254, 254,\n",
              "         66,   0,   0,   0,   0,   0,   0,   0,   0,   0,   0,   0,   0,\n",
              "          0,   0],\n",
              "       [  0,   0,   0,   0,   0,   0,   0,   0,   0, 209, 254, 254, 137,\n",
              "          0,   0,   0,   0,   0,   0,   0,   0,   0,   0,   0,   0,   0,\n",
              "          0,   0],\n",
              "       [  0,   0,   0,   0,   0,   0,   0,   0,   0, 227, 255, 233,  25,\n",
              "          0,   0,   0,   0,   0,   0,   0,   0,   0,   0,   0,   0,   0,\n",
              "          0,   0],\n",
              "       [  0,   0,   0,   0,   0,   0,   0,   0,   0, 113, 255, 108,   0,\n",
              "          0,   0,   0,   0,   0,   0,   0,   0,   0,   0,   0,   0,   0,\n",
              "          0,   0],\n",
              "       [  0,   0,   0,   0,   0,   0,   0,   0,   0,   0,   0,   0,   0,\n",
              "          0,   0,   0,   0,   0,   0,   0,   0,   0,   0,   0,   0,   0,\n",
              "          0,   0]], dtype=uint8)"
            ],
            "text/html": [
              "<style>\n",
              "      .ndarray_repr .ndarray_raw_data {\n",
              "        display: none;\n",
              "      }\n",
              "      .ndarray_repr.show_array .ndarray_raw_data {\n",
              "        display: block;\n",
              "      }\n",
              "      .ndarray_repr.show_array .ndarray_image_preview {\n",
              "        display: none;\n",
              "      }\n",
              "      </style>\n",
              "      <div id=\"id-f90ef947-2e73-4d23-8f25-71834ff751a0\" class=\"ndarray_repr\"><pre>ndarray (28, 28) <button style=\"padding: 0 2px;\">show data</button></pre><img src=\"data:image/png;base64,iVBORw0KGgoAAAANSUhEUgAAABwAAAAcCAAAAABXZoBIAAABBElEQVR4nN3QsS8DcRjG8UcOPUFiINLNYGgj2M7QpTGISSIxWRkMFomIGESCwWJ1XTtYDP4Ag60xoqNBqjW0IWlPQ/Tc9wyWa/P7/QOe7c3nfYb3lf5N+rqm6fHVPH7pybA46zcA6JQvBntortCE6uVpeMdrZavbCg24OXel20zp8zmaSJB7GFE/Gpakx5klIInLH9Q8SXKmdisBcXFAkvr/0IkULqxl9JXNvk1K9ZMw0Ry6bkcxhAD8XKV77hzbz72/pOY9Sf5B0/iTIrQ2HCNprwPrZtJmAOWU2bwWBDlL8RjaeYuNfoNvsZEa3LsWXIlh0WJ6gDObqRrX01bcibetZsovhERycinB3ycAAAAASUVORK5CYII=\" class=\"ndarray_image_preview\" /><pre class=\"ndarray_raw_data\">array([[  0,   0,   0,   0,   0,   0,   0,   0,   0,   0,   0,   0,   0,\n",
              "          0,   0,   0,   0,   0,   0,   0,   0,   0,   0,   0,   0,   0,\n",
              "          0,   0],\n",
              "       [  0,   0,   0,   0,   0,   0,   0,   0,   0,   0,   0,   0,   0,\n",
              "          0,   0,   0,   0,   0,   0,   0,   0,   0,   0,   0,   0,   0,\n",
              "          0,   0],\n",
              "       [  0,   0,   0,   0,   0,   0,   0,   0,   0,   0,   0,   0,   0,\n",
              "          0,   0,   0,   0,   0,   0,   0,   0,   0,   0,   0,   0,   0,\n",
              "          0,   0],\n",
              "       [  0,   0,   0,   0,   0,   0,   0,   0,   0,   0,   0,   0,   0,\n",
              "          0,   0,   0,   0,   0,   0,   0,   0,   0,   0,   0,   0,   0,\n",
              "          0,   0],\n",
              "       [  0,   0,   0,   0,   0,   0,   0,   0,   0,   0,   0,   0,   0,\n",
              "          0,   0,   0,   0,   0,   0,   0,   0,   0,   0,   0,   0,   0,\n",
              "          0,   0],\n",
              "       [  0,   0,   0,   0,   0,   0,   0,   0,   0,   0,   0,   0,   0,\n",
              "          0,   0,   0,   0,   0,   0,   0,   0,   0,   0,   0,   0,   0,\n",
              "          0,   0],\n",
              "       [  0,   0,   0,   0,   0,   0,   0,   0,   0,   0,   0,   0,   0,\n",
              "          0,   0,   0,   0,   0,   0,   0,   0,   0,   0,   0,   0,   0,\n",
              "          0,   0],\n",
              "       [  0,   0,   0,   0,   0,   0,   0,   0,   0,   0,   0,   0,   0,\n",
              "         36,  56, 137, 201, 199,  95,  37,   0,   0,   0,   0,   0,   0,\n",
              "          0,   0],\n",
              "       [  0,   0,   0,   0,   0,   0,   0,   0,   0,   0,   0,  45, 152,\n",
              "        234, 254, 254, 254, 254, 254, 250, 211, 151,   6,   0,   0,   0,\n",
              "          0,   0],\n",
              "       [  0,   0,   0,   0,   0,   0,   0,   0,   0,  46, 153, 240, 254,\n",
              "        254, 227, 166, 133, 251, 200, 254, 229, 225, 104,   0,   0,   0,\n",
              "          0,   0],\n",
              "       [  0,   0,   0,   0,   0,   0,   0,   0, 153, 234, 254, 254, 187,\n",
              "        142,   8,   0,   0, 191,  40, 198, 246, 223, 253,  21,   0,   0,\n",
              "          0,   0],\n",
              "       [  0,   0,   0,   0,   0,   0,   8, 126, 253, 254, 233, 128,  11,\n",
              "          0,   0,   0,   0, 210,  43,  70, 254, 254, 254,  21,   0,   0,\n",
              "          0,   0],\n",
              "       [  0,   0,   0,   0,   0,   0,  72, 243, 254, 228,  54,   0,   0,\n",
              "          0,   0,   3,  32, 116, 225, 242, 254, 255, 162,   5,   0,   0,\n",
              "          0,   0],\n",
              "       [  0,   0,   0,   0,   0,   0,  75, 240, 254, 223, 109, 138, 178,\n",
              "        178, 169, 210, 251, 231, 254, 254, 254, 232,  38,   0,   0,   0,\n",
              "          0,   0],\n",
              "       [  0,   0,   0,   0,   0,   0,   9, 175, 244, 253, 255, 254, 254,\n",
              "        251, 254, 254, 254, 254, 254, 252, 171,  25,   0,   0,   0,   0,\n",
              "          0,   0],\n",
              "       [  0,   0,   0,   0,   0,   0,   0,   0,  16, 136, 195, 176, 146,\n",
              "        153, 200, 254, 254, 254, 254, 150,  16,   0,   0,   0,   0,   0,\n",
              "          0,   0],\n",
              "       [  0,   0,   0,   0,   0,   0,   0,   0,   0,   0,   0,   0,   0,\n",
              "          0, 162, 254, 254, 241,  99,   3,   0,   0,   0,   0,   0,   0,\n",
              "          0,   0],\n",
              "       [  0,   0,   0,   0,   0,   0,   0,   0,   0,   0,   0,   0,   0,\n",
              "        118, 250, 254, 254,  90,   0,   0,   0,   0,   0,   0,   0,   0,\n",
              "          0,   0],\n",
              "       [  0,   0,   0,   0,   0,   0,   0,   0,   0,   0,   0,   0, 100,\n",
              "        242, 254, 254, 211,   7,   0,   0,   0,   0,   0,   0,   0,   0,\n",
              "          0,   0],\n",
              "       [  0,   0,   0,   0,   0,   0,   0,   0,   0,   0,   0,  54, 241,\n",
              "        254, 254, 242,  59,   0,   0,   0,   0,   0,   0,   0,   0,   0,\n",
              "          0,   0],\n",
              "       [  0,   0,   0,   0,   0,   0,   0,   0,   0,   0,   0, 131, 254,\n",
              "        254, 244,  64,   0,   0,   0,   0,   0,   0,   0,   0,   0,   0,\n",
              "          0,   0],\n",
              "       [  0,   0,   0,   0,   0,   0,   0,   0,   0,   0,  13, 249, 254,\n",
              "        254, 152,   0,   0,   0,   0,   0,   0,   0,   0,   0,   0,   0,\n",
              "          0,   0],\n",
              "       [  0,   0,   0,   0,   0,   0,   0,   0,   0,  12, 228, 254, 254,\n",
              "        208,   8,   0,   0,   0,   0,   0,   0,   0,   0,   0,   0,   0,\n",
              "          0,   0],\n",
              "       [  0,   0,   0,   0,   0,   0,   0,   0,   0,  78, 255, 254, 254,\n",
              "         66,   0,   0,   0,   0,   0,   0,   0,   0,   0,   0,   0,   0,\n",
              "          0,   0],\n",
              "       [  0,   0,   0,   0,   0,   0,   0,   0,   0, 209, 254, 254, 137,\n",
              "          0,   0,   0,   0,   0,   0,   0,   0,   0,   0,   0,   0,   0,\n",
              "          0,   0],\n",
              "       [  0,   0,   0,   0,   0,   0,   0,   0,   0, 227, 255, 233,  25,\n",
              "          0,   0,   0,   0,   0,   0,   0,   0,   0,   0,   0,   0,   0,\n",
              "          0,   0],\n",
              "       [  0,   0,   0,   0,   0,   0,   0,   0,   0, 113, 255, 108,   0,\n",
              "          0,   0,   0,   0,   0,   0,   0,   0,   0,   0,   0,   0,   0,\n",
              "          0,   0],\n",
              "       [  0,   0,   0,   0,   0,   0,   0,   0,   0,   0,   0,   0,   0,\n",
              "          0,   0,   0,   0,   0,   0,   0,   0,   0,   0,   0,   0,   0,\n",
              "          0,   0]], dtype=uint8)</pre></div><script>\n",
              "      (() => {\n",
              "      const titles = ['show data', 'hide data'];\n",
              "      let index = 0\n",
              "      document.querySelector('#id-f90ef947-2e73-4d23-8f25-71834ff751a0 button').onclick = (e) => {\n",
              "        document.querySelector('#id-f90ef947-2e73-4d23-8f25-71834ff751a0').classList.toggle('show_array');\n",
              "        index = (++index) % 2;\n",
              "        document.querySelector('#id-f90ef947-2e73-4d23-8f25-71834ff751a0 button').textContent = titles[index];\n",
              "        e.preventDefault();\n",
              "        e.stopPropagation();\n",
              "      }\n",
              "      })();\n",
              "    </script>"
            ]
          },
          "metadata": {},
          "execution_count": 2
        }
      ]
    },
    {
      "cell_type": "code",
      "source": [
        "Y_test[9]"
      ],
      "metadata": {
        "colab": {
          "base_uri": "https://localhost:8080/"
        },
        "id": "rm8ggueklCMN",
        "outputId": "f5e3f6be-e028-4a82-d56c-d625a1eb2608"
      },
      "execution_count": 3,
      "outputs": [
        {
          "output_type": "execute_result",
          "data": {
            "text/plain": [
              "9"
            ]
          },
          "metadata": {},
          "execution_count": 3
        }
      ]
    },
    {
      "cell_type": "code",
      "source": [
        "# reshaping\n",
        "\n",
        "img_rows, img_cols = 28, 28 # number of pixels\n",
        "\n",
        "# reshape data, depending on Keras backend\n",
        "X_train = X_train.reshape(X_train.shape[0], img_rows*img_cols)\n",
        "X_test = X_test.reshape(X_test.shape[0], img_rows*img_cols)\n",
        "\n",
        "print(\"Training set images shape:\", X_train.shape)\n",
        "print(\"Training set labels shape:\", Y_train.shape)\n",
        "print(\"Test set images shape:\", X_test.shape)\n",
        "print(\"Test set labels shape:\", Y_test.shape)\n"
      ],
      "metadata": {
        "colab": {
          "base_uri": "https://localhost:8080/"
        },
        "id": "vU5Hx-oAfbqy",
        "outputId": "0cec7558-4992-4179-ee78-cad899756178"
      },
      "execution_count": 4,
      "outputs": [
        {
          "output_type": "stream",
          "name": "stdout",
          "text": [
            "Training set images shape: (60000, 784)\n",
            "Training set labels shape: (60000,)\n",
            "Test set images shape: (10000, 784)\n",
            "Test set labels shape: (10000,)\n"
          ]
        }
      ]
    },
    {
      "cell_type": "code",
      "source": [
        "# cast floats to single precesion\n",
        "X_train = X_train.astype('float32')\n",
        "X_test = X_test.astype('float32')"
      ],
      "metadata": {
        "id": "3mgYon9Vi2HO"
      },
      "execution_count": 5,
      "outputs": []
    },
    {
      "cell_type": "code",
      "source": [
        "import keras,sklearn\n",
        "import matplotlib.pyplot as plt\n",
        "\n",
        "num_classes = 10 # 10 digits\n",
        "\n",
        "# rescale data in interval [0,1]\n",
        "X_train /= 255\n",
        "X_test /= 255\n",
        "\n",
        "# look at an example of data point\n",
        "print('an example of a data point with label', Y_train[20])\n",
        "plt.matshow(X_train[20,:].reshape(28,28),cmap='binary')\n",
        "plt.show()"
      ],
      "metadata": {
        "colab": {
          "base_uri": "https://localhost:8080/",
          "height": 454
        },
        "id": "kaD4Jyidjdqc",
        "outputId": "8edfecc7-bfdb-4614-ae5e-5c22a2096079"
      },
      "execution_count": 6,
      "outputs": [
        {
          "output_type": "stream",
          "name": "stdout",
          "text": [
            "an example of a data point with label 4\n"
          ]
        },
        {
          "output_type": "display_data",
          "data": {
            "text/plain": [
              "<Figure size 480x480 with 1 Axes>"
            ],
            "image/png": "[encoded data removed]"
          },
          "metadata": {}
        }
      ]
    },
    {
      "cell_type": "code",
      "source": [
        "# convert class vec class matricestors to binary\n",
        "Y_train = keras.utils.to_categorical(Y_train, num_classes)\n",
        "Y_test = keras.utils.to_categorical(Y_test, num_classes)\n",
        "\n",
        "print('X_train shape:', X_train.shape)\n",
        "print('Y_train shape:', Y_train.shape)\n",
        "print()\n",
        "print(X_train.shape[0], 'train samples')\n",
        "print(X_test.shape[0], 'test samples')"
      ],
      "metadata": {
        "colab": {
          "base_uri": "https://localhost:8080/"
        },
        "id": "anhuJOOSjgHO",
        "outputId": "bd4d6466-8ace-405f-943c-39dd40f70da9"
      },
      "execution_count": 7,
      "outputs": [
        {
          "output_type": "stream",
          "name": "stdout",
          "text": [
            "X_train shape: (60000, 784)\n",
            "Y_train shape: (60000, 10)\n",
            "\n",
            "60000 train samples\n",
            "10000 test samples\n"
          ]
        }
      ]
    },
    {
      "cell_type": "code",
      "source": [
        "# X_test[9]"
      ],
      "metadata": {
        "id": "nMDYewillWdz"
      },
      "execution_count": 8,
      "outputs": []
    },
    {
      "cell_type": "code",
      "source": [
        "Y_test[9]"
      ],
      "metadata": {
        "colab": {
          "base_uri": "https://localhost:8080/"
        },
        "id": "pmYWlsqrlZKV",
        "outputId": "add2f721-cef7-4a7e-fa80-1d5ca81d2776"
      },
      "execution_count": 9,
      "outputs": [
        {
          "output_type": "execute_result",
          "data": {
            "text/plain": [
              "array([0., 0., 0., 0., 0., 0., 0., 0., 0., 1.], dtype=float32)"
            ]
          },
          "metadata": {},
          "execution_count": 9
        }
      ]
    },
    {
      "cell_type": "markdown",
      "source": [
        "### Constructing the Deep Neural Network (DNN)\n",
        "\n",
        "Use the `Sequential()` class to add layers one by one.\n",
        "\n",
        "- Instantiate a `Sequential()` model named `model`.\n",
        "- Use the `add()` method to attach layers.\n",
        "- For simplicity, focus on `Dense` layers.\n",
        "- Specify the number of neurons and activation functions.\n",
        "- Ensure input and output neuron counts match.\n",
        "- Define input shape in the first layer.\n",
        "- Keras will infer dimensions for subsequent layers.\n",
        "- Only specify output layer size for softmax."
      ],
      "metadata": {
        "id": "cqFXOTLXmnAd"
      }
    },
    {
      "cell_type": "code",
      "source": [
        "from keras.models import Sequential\n",
        "from keras.layers import Dense, Dropout, Flatten\n",
        "from keras.layers import Conv2D, MaxPooling2D\n",
        "\n",
        "\n",
        "def create_DNN():\n",
        "    # instantiate model\n",
        "    model = Sequential()\n",
        "    # add a dense all-to-all relu layer\n",
        "    model.add(Dense(200,input_shape=(img_rows*img_cols,), activation='relu'))\n",
        "    # add a dense all-to-all relu layer\n",
        "    model.add(Dense(100, activation='relu'))\n",
        "    # apply dropout with rate 0.5\n",
        "    model.add(Dropout(0.5))\n",
        "    # soft-max layer\n",
        "    model.add(Dense(num_classes, activation='softmax'))\n",
        "\n",
        "    return model\n",
        "\n",
        "print('DNN Model created successfully!')"
      ],
      "metadata": {
        "colab": {
          "base_uri": "https://localhost:8080/"
        },
        "id": "5PTJi37olgCs",
        "outputId": "3f020edf-e0ab-438d-f854-3b0141f13362"
      },
      "execution_count": 10,
      "outputs": [
        {
          "output_type": "stream",
          "name": "stdout",
          "text": [
            "DNN Model created successfully!\n"
          ]
        }
      ]
    },
    {
      "cell_type": "code",
      "source": [
        "def compile_model(optimizer=keras.optimizers.Adam()):\n",
        "    # create the mode\n",
        "    model=create_DNN()\n",
        "    # compile the model\n",
        "    model.compile(loss=keras.losses.categorical_crossentropy,\n",
        "                  optimizer=optimizer,\n",
        "                  metrics=['accuracy'])\n",
        "    return model\n",
        "\n",
        "print('Model compiled successfully and ready to be trained.')"
      ],
      "metadata": {
        "colab": {
          "base_uri": "https://localhost:8080/"
        },
        "id": "i9HIjcXDnFui",
        "outputId": "7f1bdb72-5f17-4333-c16f-49d73093ecea"
      },
      "execution_count": 11,
      "outputs": [
        {
          "output_type": "stream",
          "name": "stdout",
          "text": [
            "Model compiled successfully and ready to be trained.\n"
          ]
        }
      ]
    },
    {
      "cell_type": "code",
      "source": [
        "# training parameters\n",
        "batch_size = 64\n",
        "epochs = 10\n",
        "\n",
        "# create the deep neural net\n",
        "model_DNN=compile_model()\n",
        "\n",
        "# train DNN and store training info in history\n",
        "history=model_DNN.fit(X_train, Y_train,\n",
        "          batch_size=batch_size,\n",
        "          epochs=epochs,\n",
        "          verbose=1,\n",
        "          validation_data=(X_test, Y_test))"
      ],
      "metadata": {
        "colab": {
          "base_uri": "https://localhost:8080/"
        },
        "id": "0ufpLXbgp-03",
        "outputId": "747ef74d-d3a7-4003-9d7b-66963907f543"
      },
      "execution_count": 12,
      "outputs": [
        {
          "output_type": "stream",
          "name": "stdout",
          "text": [
            "Epoch 1/10\n",
            "938/938 [==============================] - 6s 5ms/step - loss: 0.3538 - accuracy: 0.8947 - val_loss: 0.1387 - val_accuracy: 0.9575\n",
            "Epoch 2/10\n",
            "938/938 [==============================] - 5s 6ms/step - loss: 0.1480 - accuracy: 0.9568 - val_loss: 0.0914 - val_accuracy: 0.9701\n",
            "Epoch 3/10\n",
            "938/938 [==============================] - 6s 6ms/step - loss: 0.1048 - accuracy: 0.9692 - val_loss: 0.0799 - val_accuracy: 0.9755\n",
            "Epoch 4/10\n",
            "938/938 [==============================] - 6s 7ms/step - loss: 0.0812 - accuracy: 0.9757 - val_loss: 0.0778 - val_accuracy: 0.9776\n",
            "Epoch 5/10\n",
            "938/938 [==============================] - 6s 6ms/step - loss: 0.0680 - accuracy: 0.9792 - val_loss: 0.0752 - val_accuracy: 0.9779\n",
            "Epoch 6/10\n",
            "938/938 [==============================] - 6s 6ms/step - loss: 0.0574 - accuracy: 0.9826 - val_loss: 0.0742 - val_accuracy: 0.9788\n",
            "Epoch 7/10\n",
            "938/938 [==============================] - 6s 7ms/step - loss: 0.0486 - accuracy: 0.9847 - val_loss: 0.0755 - val_accuracy: 0.9783\n",
            "Epoch 8/10\n",
            "938/938 [==============================] - 5s 5ms/step - loss: 0.0429 - accuracy: 0.9863 - val_loss: 0.0784 - val_accuracy: 0.9792\n",
            "Epoch 9/10\n",
            "938/938 [==============================] - 7s 8ms/step - loss: 0.0390 - accuracy: 0.9883 - val_loss: 0.0854 - val_accuracy: 0.9773\n",
            "Epoch 10/10\n",
            "938/938 [==============================] - 5s 6ms/step - loss: 0.0332 - accuracy: 0.9894 - val_loss: 0.0871 - val_accuracy: 0.9772\n"
          ]
        }
      ]
    },
    {
      "cell_type": "code",
      "source": [
        "# evaluate model\n",
        "score = model_DNN.evaluate(X_test, Y_test, verbose=1)\n",
        "\n",
        "# print performance\n",
        "print()\n",
        "print('Test loss:', score[0])\n",
        "print('Test accuracy:', score[1])\n",
        "\n",
        "# look into training history\n",
        "\n",
        "# summarize history for accuracy\n",
        "plt.plot(history.history['accuracy'])\n",
        "plt.plot(history.history['val_accuracy'])\n",
        "plt.ylabel('model accuracy')\n",
        "plt.xlabel('epoch')\n",
        "plt.legend(['train', 'test'], loc='best')\n",
        "plt.show()\n",
        "\n",
        "# summarize history for loss\n",
        "plt.plot(history.history['loss'])\n",
        "plt.plot(history.history['val_loss'])\n",
        "plt.ylabel('model loss')\n",
        "plt.xlabel('epoch')\n",
        "plt.legend(['train', 'test'], loc='best')\n",
        "plt.show()"
      ],
      "metadata": {
        "colab": {
          "base_uri": "https://localhost:8080/",
          "height": 950
        },
        "id": "dDxnd6MQqH11",
        "outputId": "880e1d76-16ca-495b-9109-4118d42f5c76"
      },
      "execution_count": 13,
      "outputs": [
        {
          "output_type": "stream",
          "name": "stdout",
          "text": [
            "313/313 [==============================] - 1s 3ms/step - loss: 0.0871 - accuracy: 0.9772\n",
            "\n",
            "Test loss: 0.08707169443368912\n",
            "Test accuracy: 0.9771999716758728\n"
          ]
        },
        {
          "output_type": "display_data",
          "data": {
            "text/plain": [
              "<Figure size 640x480 with 1 Axes>"
            ],
            "image/png": "[encoded data removed]"
          },
          "metadata": {}
        },
        {
          "output_type": "display_data",
          "data": {
            "text/plain": [
              "<Figure size 640x480 with 1 Axes>"
            ],
            "image/png": "[encoded data removed]"
          },
          "metadata": {}
        }
      ]
    },
    {
      "cell_type": "markdown",
      "source": [
        "# Grid search option of scikit-learn to optimize the hyperparameters of our model"
      ],
      "metadata": {
        "id": "QzTUpuIt2TeX"
      }
    },
    {
      "cell_type": "code",
      "source": [
        "from sklearn.model_selection import GridSearchCV\n",
        "from keras.wrappers.scikit_learn import KerasClassifier\n",
        "\n",
        "# call Keras scikit wrapper\n",
        "model_gridsearch = KerasClassifier(build_fn=compile_model,\n",
        "                        epochs=1,\n",
        "                        batch_size=batch_size,\n",
        "                        verbose=1)\n",
        "\n",
        "# list of allowed optional arguments for the optimizer, see `compile_model()`\n",
        "optimizer = ['SGD', 'RMSprop', 'Adagrad', 'Adadelta', 'Adam', 'Adamax', 'Nadam']\n",
        "# define parameter dictionary\n",
        "param_grid = dict(optimizer=optimizer)\n",
        "# call scikit grid search module\n",
        "grid = GridSearchCV(estimator=model_gridsearch, param_grid=param_grid, n_jobs=1, cv=4)\n",
        "grid_result = grid.fit(X_train,Y_train)\n",
        "\n",
        "# summarize results\n",
        "print(\"Best: %f using %s\" % (grid_result.best_score_, grid_result.best_params_))\n",
        "means = grid_result.cv_results_['mean_test_score']\n",
        "stds = grid_result.cv_results_['std_test_score']\n",
        "params = grid_result.cv_results_['params']\n",
        "for mean, stdev, param in zip(means, stds, params):\n",
        "    print(\"%f (%f) with: %r\" % (mean, stdev, param))\n"
      ],
      "metadata": {
        "colab": {
          "base_uri": "https://localhost:8080/"
        },
        "id": "-dBzi5bG2WPa",
        "outputId": "c3c8565b-8f8d-48ce-e890-e50b3089b2f2"
      },
      "execution_count": 14,
      "outputs": [
        {
          "output_type": "stream",
          "name": "stderr",
          "text": [
            "<ipython-input-14-061c79d699a5>:5: DeprecationWarning: KerasClassifier is deprecated, use Sci-Keras (https://github.com/adriangb/scikeras) instead. See https://www.adriangb.com/scikeras/stable/migration.html for help migrating.\n",
            "  model_gridsearch = KerasClassifier(build_fn=compile_model,\n"
          ]
        },
        {
          "output_type": "stream",
          "name": "stdout",
          "text": [
            "704/704 [==============================] - 4s 5ms/step - loss: 1.2503 - accuracy: 0.6160\n",
            "235/235 [==============================] - 1s 3ms/step - loss: 0.5456 - accuracy: 0.8663\n",
            "704/704 [==============================] - 4s 5ms/step - loss: 1.2478 - accuracy: 0.6158\n",
            "235/235 [==============================] - 1s 3ms/step - loss: 0.5673 - accuracy: 0.8599\n",
            "704/704 [==============================] - 5s 6ms/step - loss: 1.2877 - accuracy: 0.6008\n",
            "235/235 [==============================] - 1s 3ms/step - loss: 0.6062 - accuracy: 0.8523\n",
            "704/704 [==============================] - 4s 4ms/step - loss: 1.2449 - accuracy: 0.6246\n",
            "235/235 [==============================] - 1s 3ms/step - loss: 0.5265 - accuracy: 0.8751\n",
            "704/704 [==============================] - 5s 7ms/step - loss: 0.3876 - accuracy: 0.8859\n",
            "235/235 [==============================] - 1s 5ms/step - loss: 0.1714 - accuracy: 0.9480\n",
            "704/704 [==============================] - 5s 6ms/step - loss: 0.3936 - accuracy: 0.8841\n",
            "235/235 [==============================] - 1s 3ms/step - loss: 0.1667 - accuracy: 0.9487\n",
            "704/704 [==============================] - 5s 6ms/step - loss: 0.3821 - accuracy: 0.8878\n",
            "235/235 [==============================] - 1s 2ms/step - loss: 0.1710 - accuracy: 0.9472\n",
            "704/704 [==============================] - 4s 5ms/step - loss: 0.3813 - accuracy: 0.8869\n",
            "235/235 [==============================] - 1s 3ms/step - loss: 0.1583 - accuracy: 0.9531\n",
            "704/704 [==============================] - 5s 6ms/step - loss: 1.8730 - accuracy: 0.4014\n",
            "235/235 [==============================] - 1s 3ms/step - loss: 1.3321 - accuracy: 0.7529\n",
            "704/704 [==============================] - 4s 5ms/step - loss: 1.8293 - accuracy: 0.4102\n",
            "235/235 [==============================] - 1s 4ms/step - loss: 1.2729 - accuracy: 0.7503\n",
            "704/704 [==============================] - 4s 5ms/step - loss: 1.9295 - accuracy: 0.3748\n",
            "235/235 [==============================] - 1s 3ms/step - loss: 1.4355 - accuracy: 0.7357\n",
            "704/704 [==============================] - 5s 6ms/step - loss: 1.8893 - accuracy: 0.3989\n",
            "235/235 [==============================] - 1s 3ms/step - loss: 1.3568 - accuracy: 0.7416\n",
            "704/704 [==============================] - 5s 6ms/step - loss: 2.3544 - accuracy: 0.1172\n",
            "235/235 [==============================] - 1s 3ms/step - loss: 2.2618 - accuracy: 0.1464\n",
            "704/704 [==============================] - 6s 7ms/step - loss: 2.3373 - accuracy: 0.1131\n",
            "235/235 [==============================] - 1s 3ms/step - loss: 2.2725 - accuracy: 0.1359\n",
            "704/704 [==============================] - 6s 8ms/step - loss: 2.3335 - accuracy: 0.1212\n",
            "235/235 [==============================] - 1s 3ms/step - loss: 2.2713 - accuracy: 0.1484\n",
            "704/704 [==============================] - 5s 7ms/step - loss: 2.3329 - accuracy: 0.1139\n",
            "235/235 [==============================] - 1s 3ms/step - loss: 2.2551 - accuracy: 0.1511\n",
            "704/704 [==============================] - 5s 6ms/step - loss: 0.4041 - accuracy: 0.8795\n",
            "235/235 [==============================] - 1s 3ms/step - loss: 0.1676 - accuracy: 0.9502\n",
            "704/704 [==============================] - 5s 5ms/step - loss: 0.3980 - accuracy: 0.8818\n",
            "235/235 [==============================] - 1s 4ms/step - loss: 0.1630 - accuracy: 0.9503\n",
            "704/704 [==============================] - 5s 6ms/step - loss: 0.4021 - accuracy: 0.8816\n",
            "235/235 [==============================] - 1s 3ms/step - loss: 0.1645 - accuracy: 0.9496\n",
            "704/704 [==============================] - 7s 8ms/step - loss: 0.4023 - accuracy: 0.8810\n",
            "235/235 [==============================] - 1s 2ms/step - loss: 0.1627 - accuracy: 0.9519\n",
            "704/704 [==============================] - 6s 8ms/step - loss: 0.5838 - accuracy: 0.8290\n",
            "235/235 [==============================] - 1s 3ms/step - loss: 0.2668 - accuracy: 0.9231\n",
            "704/704 [==============================] - 6s 8ms/step - loss: 0.5806 - accuracy: 0.8281\n",
            "235/235 [==============================] - 1s 4ms/step - loss: 0.2626 - accuracy: 0.9243\n",
            "704/704 [==============================] - 5s 6ms/step - loss: 0.5658 - accuracy: 0.8341\n",
            "235/235 [==============================] - 1s 3ms/step - loss: 0.2682 - accuracy: 0.9215\n",
            "704/704 [==============================] - 6s 8ms/step - loss: 0.5875 - accuracy: 0.8280\n",
            "235/235 [==============================] - 1s 3ms/step - loss: 0.2443 - accuracy: 0.9297\n",
            "704/704 [==============================] - 7s 8ms/step - loss: 0.3942 - accuracy: 0.8839\n",
            "235/235 [==============================] - 1s 3ms/step - loss: 0.1592 - accuracy: 0.9527\n",
            "704/704 [==============================] - 8s 10ms/step - loss: 0.4012 - accuracy: 0.8828\n",
            "235/235 [==============================] - 1s 3ms/step - loss: 0.1573 - accuracy: 0.9521\n",
            "704/704 [==============================] - 7s 8ms/step - loss: 0.3983 - accuracy: 0.8813\n",
            "235/235 [==============================] - 1s 3ms/step - loss: 0.1772 - accuracy: 0.9465\n",
            "704/704 [==============================] - 7s 8ms/step - loss: 0.4026 - accuracy: 0.8802\n",
            "235/235 [==============================] - 1s 5ms/step - loss: 0.1572 - accuracy: 0.9523\n",
            "938/938 [==============================] - 8s 7ms/step - loss: 0.3510 - accuracy: 0.8963\n",
            "Best: 0.950900 using {'optimizer': 'Nadam'}\n",
            "0.863400 (0.008362) with: {'optimizer': 'SGD'}\n",
            "0.949250 (0.002269) with: {'optimizer': 'RMSprop'}\n",
            "0.745150 (0.006869) with: {'optimizer': 'Adagrad'}\n",
            "0.145433 (0.005766) with: {'optimizer': 'Adadelta'}\n",
            "0.950500 (0.000867) with: {'optimizer': 'Adam'}\n",
            "0.924650 (0.003070) with: {'optimizer': 'Adamax'}\n",
            "0.950900 (0.002529) with: {'optimizer': 'Nadam'}\n"
          ]
        }
      ]
    },
    {
      "cell_type": "markdown",
      "source": [
        "# CNN"
      ],
      "metadata": {
        "id": "3yvbH4UERUPv"
      }
    },
    {
      "cell_type": "code",
      "source": [
        "import keras,sklearn\n",
        "# reshape data, depending on Keras backend\n",
        "if keras.backend.image_data_format() == 'channels_first':\n",
        "    X_train = X_train.reshape(X_train.shape[0], 1, img_rows, img_cols)\n",
        "    X_test = X_test.reshape(X_test.shape[0], 1, img_rows, img_cols)\n",
        "    input_shape = (1, img_rows, img_cols)\n",
        "else:\n",
        "    X_train = X_train.reshape(X_train.shape[0], img_rows, img_cols, 1)\n",
        "    X_test = X_test.reshape(X_test.shape[0], img_rows, img_cols, 1)\n",
        "    input_shape = (img_rows, img_cols, 1)\n",
        "\n",
        "print('X_train shape:', X_train.shape)\n",
        "print('Y_train shape:', Y_train.shape)\n",
        "print()\n",
        "print(X_train.shape[0], 'train samples')\n",
        "print(X_test.shape[0], 'test samples')"
      ],
      "metadata": {
        "colab": {
          "base_uri": "https://localhost:8080/"
        },
        "id": "nCwl2RAnSY3c",
        "outputId": "36d0b2a0-7a1b-4da5-c820-1597add30e2c"
      },
      "execution_count": 15,
      "outputs": [
        {
          "output_type": "stream",
          "name": "stdout",
          "text": [
            "X_train shape: (60000, 28, 28, 1)\n",
            "Y_train shape: (60000, 10)\n",
            "\n",
            "60000 train samples\n",
            "10000 test samples\n"
          ]
        }
      ]
    },
    {
      "cell_type": "code",
      "source": [
        "from keras.models import Sequential\n",
        "from keras.layers import Dense, Dropout, Flatten\n",
        "from keras.layers import Conv2D, MaxPooling2D\n",
        "\n",
        "def create_CNN():\n",
        "    # instantiate model\n",
        "    model = Sequential()\n",
        "    # add first convolutional layer with 10 filters (dimensionality of output space)\n",
        "    model.add(Conv2D(10, kernel_size=(5, 5),\n",
        "                     activation='relu',\n",
        "                     input_shape=input_shape))\n",
        "    # add 2D pooling layer\n",
        "    model.add(MaxPooling2D(pool_size=(2, 2)))\n",
        "    # add second convolutional layer with 20 filters\n",
        "    model.add(Conv2D(20, (5, 5), activation='relu'))\n",
        "    # apply dropout with rate 0.5\n",
        "    model.add(Dropout(0.5))\n",
        "    # add 2D pooling layer\n",
        "    model.add(MaxPooling2D(pool_size=(2, 2)))\n",
        "    # flatten data\n",
        "    model.add(Flatten())\n",
        "    # add a dense all-to-all relu layer\n",
        "    model.add(Dense(20*4*4, activation='relu'))\n",
        "    # apply dropout with rate 0.5\n",
        "    model.add(Dropout(0.5))\n",
        "    # soft-max layer\n",
        "    model.add(Dense(num_classes, activation='softmax'))\n",
        "\n",
        "    # compile the model\n",
        "    model.compile(loss=keras.losses.categorical_crossentropy,\n",
        "                  optimizer='Adam',\n",
        "                  metrics=['accuracy'])\n",
        "\n",
        "    return model\n",
        "\n",
        "    print('CNN Model created successfully!')"
      ],
      "metadata": {
        "id": "sQB68a6a2rlh"
      },
      "execution_count": 16,
      "outputs": []
    },
    {
      "cell_type": "code",
      "source": [
        "# training parameters\n",
        "batch_size = 64\n",
        "epochs = 10\n",
        "\n",
        "# create the deep conv net\n",
        "model_CNN=create_CNN()\n",
        "\n",
        "# train CNN\n",
        "model_CNN.fit(X_train, Y_train,\n",
        "          batch_size=batch_size,\n",
        "          epochs=epochs,\n",
        "          verbose=1,\n",
        "          validation_data=(X_test, Y_test))\n",
        "\n",
        "# evaliate model\n",
        "score = model_CNN.evaluate(X_test, Y_test, verbose=1)\n",
        "\n",
        "# print performance\n",
        "print()\n",
        "print('Test loss:', score[0])\n",
        "print('Test accuracy:', score[1])"
      ],
      "metadata": {
        "colab": {
          "base_uri": "https://localhost:8080/"
        },
        "id": "xzHco1wtRZuI",
        "outputId": "ce37ba42-dce5-48dc-a26b-ef17f586c8c1"
      },
      "execution_count": 17,
      "outputs": [
        {
          "output_type": "stream",
          "name": "stdout",
          "text": [
            "Epoch 1/10\n",
            "938/938 [==============================] - 33s 34ms/step - loss: 0.2558 - accuracy: 0.9199 - val_loss: 0.0867 - val_accuracy: 0.9804\n",
            "Epoch 2/10\n",
            "938/938 [==============================] - 45s 48ms/step - loss: 0.0981 - accuracy: 0.9701 - val_loss: 0.0524 - val_accuracy: 0.9871\n",
            "Epoch 3/10\n",
            "938/938 [==============================] - 33s 35ms/step - loss: 0.0735 - accuracy: 0.9773 - val_loss: 0.0427 - val_accuracy: 0.9896\n",
            "Epoch 4/10\n",
            "938/938 [==============================] - 32s 34ms/step - loss: 0.0636 - accuracy: 0.9802 - val_loss: 0.0367 - val_accuracy: 0.9908\n",
            "Epoch 5/10\n",
            "938/938 [==============================] - 31s 33ms/step - loss: 0.0551 - accuracy: 0.9830 - val_loss: 0.0353 - val_accuracy: 0.9901\n",
            "Epoch 6/10\n",
            "938/938 [==============================] - 31s 33ms/step - loss: 0.0489 - accuracy: 0.9848 - val_loss: 0.0313 - val_accuracy: 0.9915\n",
            "Epoch 7/10\n",
            "938/938 [==============================] - 31s 33ms/step - loss: 0.0446 - accuracy: 0.9858 - val_loss: 0.0289 - val_accuracy: 0.9918\n",
            "Epoch 8/10\n",
            "938/938 [==============================] - 31s 33ms/step - loss: 0.0421 - accuracy: 0.9868 - val_loss: 0.0298 - val_accuracy: 0.9914\n",
            "Epoch 9/10\n",
            "938/938 [==============================] - 31s 33ms/step - loss: 0.0392 - accuracy: 0.9873 - val_loss: 0.0262 - val_accuracy: 0.9932\n",
            "Epoch 10/10\n",
            "938/938 [==============================] - 32s 34ms/step - loss: 0.0374 - accuracy: 0.9886 - val_loss: 0.0247 - val_accuracy: 0.9926\n",
            "313/313 [==============================] - 2s 6ms/step - loss: 0.0247 - accuracy: 0.9926\n",
            "\n",
            "Test loss: 0.024682149291038513\n",
            "Test accuracy: 0.9926000237464905\n"
          ]
        }
      ]
    },
    {
      "cell_type": "code",
      "source": [],
      "metadata": {
        "id": "l3k3WwmuRwun"
      },
      "execution_count": 17,
      "outputs": []
    }
  ]
}