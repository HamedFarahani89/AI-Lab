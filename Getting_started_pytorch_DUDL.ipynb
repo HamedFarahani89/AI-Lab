{
  "nbformat": 4,
  "nbformat_minor": 0,
  "metadata": {
    "colab": {
      "provenance": [],
      "authorship_tag": "ABX9TyPpMlDn4TU3cmVW1zDD3bdo",
      "include_colab_link": true
    },
    "kernelspec": {
      "name": "python3",
      "display_name": "Python 3"
    },
    "language_info": {
      "name": "python"
    }
  },
  "cells": [
    {
      "cell_type": "markdown",
      "metadata": {
        "id": "view-in-github",
        "colab_type": "text"
      },
      "source": [
        "<a href=\"https://colab.research.google.com/github/HamedFarahani89/AI-Lab/blob/main/Getting_started_pytorch_DUDL.ipynb\" target=\"_parent\"><img src=\"https://colab.research.google.com/assets/colab-badge.svg\" alt=\"Open In Colab\"/></a>"
      ]
    },
    {
      "cell_type": "code",
      "execution_count": 1,
      "metadata": {
        "id": "7RbQzllW3l6s"
      },
      "outputs": [],
      "source": [
        "import torch\n",
        "import numpy as np\n",
        "import torch.nn as nn\n",
        "import matplotlib.pyplot as plt"
      ]
    },
    {
      "cell_type": "markdown",
      "source": [
        "matrix transpose\n",
        "\n",
        "$$\n",
        "A^T\n",
        "$$"
      ],
      "metadata": {
        "id": "ue6J6lUT6LDi"
      }
    },
    {
      "cell_type": "code",
      "source": [
        "# repeat for a matrix\n",
        "tM = torch.tensor([ [1,2,3,4],[5,6,7,8] ])\n",
        "print(tM), print(' ')\n",
        "\n",
        "# transpose it\n",
        "print(tM.T)"
      ],
      "metadata": {
        "colab": {
          "base_uri": "https://localhost:8080/"
        },
        "id": "m8uqKS1s6Mrw",
        "outputId": "665f8612-061f-40f0-b774-9c0687564444"
      },
      "execution_count": 2,
      "outputs": [
        {
          "output_type": "stream",
          "name": "stdout",
          "text": [
            "tensor([[1, 2, 3, 4],\n",
            "        [5, 6, 7, 8]])\n",
            " \n",
            "tensor([[1, 5],\n",
            "        [2, 6],\n",
            "        [3, 7],\n",
            "        [4, 8]])\n"
          ]
        }
      ]
    },
    {
      "cell_type": "markdown",
      "source": [
        " dot product\n",
        "\n",
        " $$\n",
        "\\mathbf{a} \\cdot \\mathbf{b} = \\sum_{i=1}^{n} a_i \\cdot b_i\n",
        "$$\n"
      ],
      "metadata": {
        "id": "RLseQ7HM5LoD"
      }
    },
    {
      "cell_type": "code",
      "source": [
        "# create a vector\n",
        "tv1 = torch.tensor([1,1,3,4])\n",
        "tv2 = torch.tensor([-2,1,0,-1])\n",
        "\n",
        "\n",
        "# Dot product using a function\n",
        "dot_product_function = torch.dot(tv1, tv2)\n",
        "print(\"Dot product using a function:\", dot_product_function)\n",
        "\n",
        "# Dot product using computation\n",
        "dot_product_computation = torch.sum(tv1 * tv2)\n",
        "print(\"Dot product using computation:\", dot_product_computation)\n",
        "\n",
        "\n",
        "# Computing the dot product\n",
        "dot_product = 1 * -2 + 1 * 1 + 3 * 0 + 4 * -1\n",
        "print(\"According to theory, the dot product is:\", dot_product)\n"
      ],
      "metadata": {
        "colab": {
          "base_uri": "https://localhost:8080/"
        },
        "id": "pQjZR0fh37AA",
        "outputId": "8d54377d-d6b5-435d-ede2-8d37674a5fc6"
      },
      "execution_count": 3,
      "outputs": [
        {
          "output_type": "stream",
          "name": "stdout",
          "text": [
            "Dot product using a function: tensor(-5)\n",
            "Dot product using computation: tensor(-5)\n",
            "According to theory, the dot product is: -5\n"
          ]
        }
      ]
    },
    {
      "cell_type": "markdown",
      "source": [
        "Matrix multiplication\n",
        "\n",
        "$$\n",
        "C = A \\times B\n",
        "$$"
      ],
      "metadata": {
        "id": "sZmVVODb7FBH"
      }
    },
    {
      "cell_type": "code",
      "source": [
        "# Create some random matrices\n",
        "A = torch.randn(3, 4)\n",
        "B = torch.randn(4, 5)\n",
        "\n",
        "# Checking if numpy array is compatible with torch tensor\n",
        "# Also, dimensions should be correct\n",
        "C1 = np.random.randn(4, 7)\n",
        "C2 = torch.tensor(C1, dtype=torch.float)\n",
        "\n",
        "# Try some multiplications\n",
        "# print(np.round(A @ B, 2)), print(' ')\n",
        "# print(np.round(A @ B.T, 2)), print(' ')\n",
        "print(np.round(A @ C1, 2)), print(' ')\n",
        "print(np.round(A @ C2, 2))\n"
      ],
      "metadata": {
        "colab": {
          "base_uri": "https://localhost:8080/"
        },
        "id": "a4LrDgCC4Jid",
        "outputId": "90c3f4b2-4c15-401b-c526-de816994053d"
      },
      "execution_count": 4,
      "outputs": [
        {
          "output_type": "stream",
          "name": "stdout",
          "text": [
            "tensor([[ 3.6900,  2.0200, -1.8200, -1.7600,  0.1100,  2.0300, -0.1200],\n",
            "        [-4.3500,  1.3800, -2.0000,  0.8600, -1.2100, -1.3500, -0.1000],\n",
            "        [ 3.3200, -1.9000,  2.4800,  0.3500,  1.6800,  1.9800,  0.3200]],\n",
            "       dtype=torch.float64)\n",
            " \n",
            "tensor([[ 3.6900,  2.0200, -1.8200, -1.7600,  0.1100,  2.0300, -0.1200],\n",
            "        [-4.3500,  1.3800, -2.0000,  0.8600, -1.2100, -1.3500, -0.1000],\n",
            "        [ 3.3200, -1.9000,  2.4800,  0.3500,  1.6800,  1.9800,  0.3200]])\n"
          ]
        }
      ]
    },
    {
      "cell_type": "markdown",
      "source": [
        "Softmax\n",
        "\n",
        "$$\n",
        "\\text{softmax}(x)_i = \\frac{e^{x_i}}{\\sum_j e^{x_j}}\n",
        "$$\n"
      ],
      "metadata": {
        "id": "qrTEoe_f9LtT"
      }
    },
    {
      "cell_type": "code",
      "source": [
        "z = torch.tensor([-2,1,.02,-1])\n",
        "\n",
        "# create an instance of the softmax activation class\n",
        "softfun = nn.Softmax(dim=0)\n",
        "\n",
        "# then apply the data to that function\n",
        "sigmaT = softfun( torch.Tensor(z) )\n",
        "\n",
        "# now we get the results\n",
        "print(sigmaT)\n",
        "\n",
        "print('To check the first element softmax is ', torch.exp(torch.tensor(-2.0))/torch.sum(torch.exp(z)))"
      ],
      "metadata": {
        "colab": {
          "base_uri": "https://localhost:8080/"
        },
        "id": "c2lQdB5g9OXs",
        "outputId": "6a387549-035f-4595-f38f-39f7b3d9a85b"
      },
      "execution_count": 5,
      "outputs": [
        {
          "output_type": "stream",
          "name": "stdout",
          "text": [
            "tensor([0.0319, 0.6408, 0.2405, 0.0867])\n",
            "To check the first element softmax is  tensor(0.0319)\n"
          ]
        }
      ]
    },
    {
      "cell_type": "markdown",
      "source": [
        "Entropy and cross-entropy\n",
        "\n",
        "$$\n",
        "H(X) = -\\sum_{i=1}^{n} p(x_i) \\log{p(x_i)}\n",
        "$$\n",
        "\n",
        "$$\n",
        "H(p, q) = -\\sum_{i=1}^{n} p(x_i) \\log{q(x_i)}\n",
        "$$\n"
      ],
      "metadata": {
        "id": "TSO1q_XjAYBP"
      }
    },
    {
      "cell_type": "code",
      "source": [
        "# the correct way to compute entropy\n",
        "P = [.25,.75]\n",
        "\n",
        "H = 0\n",
        "for p in P:\n",
        "  H -= p*np.log(p)\n",
        "\n",
        "print('Correct entropy: ' + str(H))"
      ],
      "metadata": {
        "colab": {
          "base_uri": "https://localhost:8080/"
        },
        "id": "5FSHMCKG9tZg",
        "outputId": "46986bbc-ad76-4dcc-b140-2442add8f81d"
      },
      "execution_count": 6,
      "outputs": [
        {
          "output_type": "stream",
          "name": "stdout",
          "text": [
            "Correct entropy: 0.5623351446188083\n"
          ]
        }
      ]
    },
    {
      "cell_type": "code",
      "source": [
        "# note: all probs must sum to 1!\n",
        "p = [   1.,0.   ] # sum=1\n",
        "q = [ .25,.75 ] # sum=1\n",
        "\n",
        "H = 0\n",
        "for i in range(len(p)):\n",
        "  H -= p[i]*np.log(q[i])\n",
        "\n",
        "print('Cross entropy: ' + str(H))"
      ],
      "metadata": {
        "colab": {
          "base_uri": "https://localhost:8080/"
        },
        "id": "nC-TIJJ9BcGz",
        "outputId": "412a2c77-a53b-4726-ab6a-c4d31448d08b"
      },
      "execution_count": 7,
      "outputs": [
        {
          "output_type": "stream",
          "name": "stdout",
          "text": [
            "Cross entropy: 1.3862943611198906\n"
          ]
        }
      ]
    },
    {
      "cell_type": "code",
      "source": [
        "import torch.nn.functional as F\n",
        "\n",
        "# Define the ground truth probabilities (p) and predicted probabilities (q)\n",
        "p = [1., 0.]  # Ground truth probabilities\n",
        "q = [0.25, 0.75]  # Predicted probabilities\n",
        "\n",
        "# Convert lists to PyTorch tensors\n",
        "p_tensor = torch.tensor(p, dtype=torch.float32)\n",
        "q_tensor = torch.tensor(q, dtype=torch.float32)\n",
        "\n",
        "# Compute binary cross-entropy\n",
        "loss = F.binary_cross_entropy(torch.tensor(q_tensor), torch.tensor(p_tensor))\n",
        "\n",
        "print(loss.item())  # Print the loss value\n"
      ],
      "metadata": {
        "colab": {
          "base_uri": "https://localhost:8080/"
        },
        "id": "1U-OtabLBsoD",
        "outputId": "8e179cb7-f869-4637-8ede-a0d28fd4b03d"
      },
      "execution_count": 8,
      "outputs": [
        {
          "output_type": "stream",
          "name": "stdout",
          "text": [
            "1.3862943649291992\n"
          ]
        },
        {
          "output_type": "stream",
          "name": "stderr",
          "text": [
            "<ipython-input-8-ddf000a37e30>:12: UserWarning: To copy construct from a tensor, it is recommended to use sourceTensor.clone().detach() or sourceTensor.clone().detach().requires_grad_(True), rather than torch.tensor(sourceTensor).\n",
            "  loss = F.binary_cross_entropy(torch.tensor(q_tensor), torch.tensor(p_tensor))\n"
          ]
        }
      ]
    },
    {
      "cell_type": "code",
      "source": [],
      "metadata": {
        "id": "jg-Cjq8wC_Ib"
      },
      "execution_count": 8,
      "outputs": []
    }
  ]
}