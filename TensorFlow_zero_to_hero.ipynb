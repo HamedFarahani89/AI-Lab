{
  "nbformat": 4,
  "nbformat_minor": 0,
  "metadata": {
    "colab": {
      "provenance": []
    },
    "kernelspec": {
      "name": "python3",
      "display_name": "Python 3"
    },
    "language_info": {
      "name": "python"
    }
  },
  "cells": [
    {
      "cell_type": "code",
      "execution_count": 57,
      "metadata": {
        "colab": {
          "base_uri": "https://localhost:8080/"
        },
        "id": "P_O4DSawmJZF",
        "outputId": "e8a67cb9-d949-42b3-9952-008d13a728c0"
      },
      "outputs": [
        {
          "output_type": "stream",
          "name": "stdout",
          "text": [
            "TensorFlow version: 2.15.0\n"
          ]
        }
      ],
      "source": [
        "import tensorflow as tf\n",
        "import numpy as np\n",
        "from tensorflow import keras\n",
        "\n",
        "print(\"TensorFlow version:\", tf.__version__)\n",
        "\n"
      ]
    },
    {
      "cell_type": "markdown",
      "source": [
        "## Simplest Neural Network with One Layer and One Node"
      ],
      "metadata": {
        "id": "abKSYHVE-QyD"
      }
    },
    {
      "cell_type": "code",
      "source": [
        "%matplotlib inline\n",
        "import matplotlib.pyplot as plt\n",
        "trX = np.linspace(-1, 1, 101)\n",
        "trY = 2 * trX + np.random.randn(*trX.shape) * 0.33\n",
        "\n",
        "plt.plot(trX, trY,'bo',label='data')\n",
        "plt.legend()\n",
        "plt.show()"
      ],
      "metadata": {
        "colab": {
          "base_uri": "https://localhost:8080/",
          "height": 430
        },
        "id": "waXEcr6_6ZDX",
        "outputId": "2cf4d34f-6f93-4e0b-b826-3a7ebf05b459"
      },
      "execution_count": 58,
      "outputs": [
        {
          "output_type": "display_data",
          "data": {
            "text/plain": [
              "<Figure size 640x480 with 1 Axes>"
            ],
            "image/png": "[encoded data removed]"
          },
          "metadata": {}
        }
      ]
    },
    {
      "cell_type": "code",
      "source": [
        "model = tf.keras.Sequential([keras.layers.Dense(units=1, input_shape=[1])])\n",
        "model.compile(optimizer='sgd', loss='mean_squared_error')"
      ],
      "metadata": {
        "id": "mMSi8q7o-Br6"
      },
      "execution_count": 59,
      "outputs": []
    },
    {
      "cell_type": "code",
      "source": [
        "# Print initial weights\n",
        "weights = model.layers[0].get_weights()\n",
        "w_init = weights[0][0][0]\n",
        "b_init = weights[1][0]\n",
        "print('Linear regression model is initialized with weight w: %.2f, b: %.2f' % (w_init, b_init))"
      ],
      "metadata": {
        "colab": {
          "base_uri": "https://localhost:8080/"
        },
        "id": "zQBbctq58GX0",
        "outputId": "87159b08-ad39-4999-c544-8e330ee11330"
      },
      "execution_count": 60,
      "outputs": [
        {
          "output_type": "stream",
          "name": "stdout",
          "text": [
            "Linear regression model is initialized with weight w: 0.36, b: 0.00\n"
          ]
        }
      ]
    },
    {
      "cell_type": "code",
      "source": [
        "model.fit(trX, trY, epochs=50)"
      ],
      "metadata": {
        "colab": {
          "base_uri": "https://localhost:8080/"
        },
        "id": "ganTOExz6PUy",
        "outputId": "7e02bed2-777b-4f75-a12c-37ca94fe3af6"
      },
      "execution_count": 61,
      "outputs": [
        {
          "output_type": "stream",
          "name": "stdout",
          "text": [
            "Epoch 1/50\n",
            "4/4 [==============================] - 0s 4ms/step - loss: 1.1143\n",
            "Epoch 2/50\n",
            "4/4 [==============================] - 0s 4ms/step - loss: 1.0632\n",
            "Epoch 3/50\n",
            "4/4 [==============================] - 0s 4ms/step - loss: 1.0185\n",
            "Epoch 4/50\n",
            "4/4 [==============================] - 0s 5ms/step - loss: 0.9722\n",
            "Epoch 5/50\n",
            "4/4 [==============================] - 0s 4ms/step - loss: 0.9245\n",
            "Epoch 6/50\n",
            "4/4 [==============================] - 0s 4ms/step - loss: 0.8839\n",
            "Epoch 7/50\n",
            "4/4 [==============================] - 0s 4ms/step - loss: 0.8476\n",
            "Epoch 8/50\n",
            "4/4 [==============================] - 0s 5ms/step - loss: 0.8119\n",
            "Epoch 9/50\n",
            "4/4 [==============================] - 0s 5ms/step - loss: 0.7749\n",
            "Epoch 10/50\n",
            "4/4 [==============================] - 0s 4ms/step - loss: 0.7433\n",
            "Epoch 11/50\n",
            "4/4 [==============================] - 0s 5ms/step - loss: 0.7116\n",
            "Epoch 12/50\n",
            "4/4 [==============================] - 0s 9ms/step - loss: 0.6802\n",
            "Epoch 13/50\n",
            "4/4 [==============================] - 0s 8ms/step - loss: 0.6509\n",
            "Epoch 14/50\n",
            "4/4 [==============================] - 0s 6ms/step - loss: 0.6214\n",
            "Epoch 15/50\n",
            "4/4 [==============================] - 0s 6ms/step - loss: 0.5913\n",
            "Epoch 16/50\n",
            "4/4 [==============================] - 0s 6ms/step - loss: 0.5625\n",
            "Epoch 17/50\n",
            "4/4 [==============================] - 0s 4ms/step - loss: 0.5374\n",
            "Epoch 18/50\n",
            "4/4 [==============================] - 0s 5ms/step - loss: 0.5119\n",
            "Epoch 19/50\n",
            "4/4 [==============================] - 0s 5ms/step - loss: 0.4930\n",
            "Epoch 20/50\n",
            "4/4 [==============================] - 0s 4ms/step - loss: 0.4708\n",
            "Epoch 21/50\n",
            "4/4 [==============================] - 0s 6ms/step - loss: 0.4517\n",
            "Epoch 22/50\n",
            "4/4 [==============================] - 0s 5ms/step - loss: 0.4341\n",
            "Epoch 23/50\n",
            "4/4 [==============================] - 0s 5ms/step - loss: 0.4168\n",
            "Epoch 24/50\n",
            "4/4 [==============================] - 0s 5ms/step - loss: 0.4006\n",
            "Epoch 25/50\n",
            "4/4 [==============================] - 0s 5ms/step - loss: 0.3837\n",
            "Epoch 26/50\n",
            "4/4 [==============================] - 0s 5ms/step - loss: 0.3693\n",
            "Epoch 27/50\n",
            "4/4 [==============================] - 0s 5ms/step - loss: 0.3558\n",
            "Epoch 28/50\n",
            "4/4 [==============================] - 0s 6ms/step - loss: 0.3445\n",
            "Epoch 29/50\n",
            "4/4 [==============================] - 0s 6ms/step - loss: 0.3295\n",
            "Epoch 30/50\n",
            "4/4 [==============================] - 0s 4ms/step - loss: 0.3176\n",
            "Epoch 31/50\n",
            "4/4 [==============================] - 0s 6ms/step - loss: 0.3040\n",
            "Epoch 32/50\n",
            "4/4 [==============================] - 0s 4ms/step - loss: 0.2953\n",
            "Epoch 33/50\n",
            "4/4 [==============================] - 0s 6ms/step - loss: 0.2850\n",
            "Epoch 34/50\n",
            "4/4 [==============================] - 0s 6ms/step - loss: 0.2769\n",
            "Epoch 35/50\n",
            "4/4 [==============================] - 0s 5ms/step - loss: 0.2663\n",
            "Epoch 36/50\n",
            "4/4 [==============================] - 0s 6ms/step - loss: 0.2583\n",
            "Epoch 37/50\n",
            "4/4 [==============================] - 0s 5ms/step - loss: 0.2507\n",
            "Epoch 38/50\n",
            "4/4 [==============================] - 0s 5ms/step - loss: 0.2439\n",
            "Epoch 39/50\n",
            "4/4 [==============================] - 0s 4ms/step - loss: 0.2382\n",
            "Epoch 40/50\n",
            "4/4 [==============================] - 0s 5ms/step - loss: 0.2304\n",
            "Epoch 41/50\n",
            "4/4 [==============================] - 0s 6ms/step - loss: 0.2224\n",
            "Epoch 42/50\n",
            "4/4 [==============================] - 0s 5ms/step - loss: 0.2168\n",
            "Epoch 43/50\n",
            "4/4 [==============================] - 0s 7ms/step - loss: 0.2109\n",
            "Epoch 44/50\n",
            "4/4 [==============================] - 0s 5ms/step - loss: 0.2046\n",
            "Epoch 45/50\n",
            "4/4 [==============================] - 0s 9ms/step - loss: 0.1996\n",
            "Epoch 46/50\n",
            "4/4 [==============================] - 0s 6ms/step - loss: 0.1930\n",
            "Epoch 47/50\n",
            "4/4 [==============================] - 0s 5ms/step - loss: 0.1882\n",
            "Epoch 48/50\n",
            "4/4 [==============================] - 0s 6ms/step - loss: 0.1840\n",
            "Epoch 49/50\n",
            "4/4 [==============================] - 0s 6ms/step - loss: 0.1803\n",
            "Epoch 50/50\n",
            "4/4 [==============================] - 0s 6ms/step - loss: 0.1769\n"
          ]
        },
        {
          "output_type": "execute_result",
          "data": {
            "text/plain": [
              "<keras.src.callbacks.History at 0x7fc6daf372e0>"
            ]
          },
          "metadata": {},
          "execution_count": 61
        }
      ]
    },
    {
      "cell_type": "code",
      "source": [
        "weights = model.layers[0].get_weights()\n",
        "w = weights[0][0][0]\n",
        "b = weights[1][0]\n",
        "print('Linear regression model is trained with weight w: %.2f, b: %.2f' % (w, b))"
      ],
      "metadata": {
        "colab": {
          "base_uri": "https://localhost:8080/"
        },
        "id": "bTGD4xRA8Q4f",
        "outputId": "8579e68f-cd9a-4f7c-8fc2-3e74b0b46ed7"
      },
      "execution_count": 62,
      "outputs": [
        {
          "output_type": "stream",
          "name": "stdout",
          "text": [
            "Linear regression model is trained with weight w: 1.65, b: 0.02\n"
          ]
        }
      ]
    },
    {
      "cell_type": "code",
      "source": [
        "plt.plot(trX, trY,'bo', label='data')\n",
        "plt.plot(trX, w_init*trX + b_init, label='init')\n",
        "plt.plot(trX, w*trX + b, label='prediction')\n",
        "plt.legend()\n",
        "plt.show()"
      ],
      "metadata": {
        "colab": {
          "base_uri": "https://localhost:8080/",
          "height": 430
        },
        "id": "4O84dcb08Lp_",
        "outputId": "0ffc5a98-6b6d-49e1-9eec-86ef12b9971f"
      },
      "execution_count": 63,
      "outputs": [
        {
          "output_type": "display_data",
          "data": {
            "text/plain": [
              "<Figure size 640x480 with 1 Axes>"
            ],
            "image/png": "[encoded data removed]"
          },
          "metadata": {}
        }
      ]
    },
    {
      "cell_type": "markdown",
      "source": [
        "# MNIST dataset\n",
        " Quick start DNN with tf using\n"
      ],
      "metadata": {
        "id": "6jvjoqmDqYOD"
      }
    },
    {
      "cell_type": "code",
      "source": [
        "mnist = tf.keras.datasets.mnist\n",
        "\n",
        "(x_train, y_train), (x_test, y_test) = mnist.load_data()\n",
        "x_train, x_test = x_train / 255.0, x_test / 255.0"
      ],
      "metadata": {
        "id": "QwlfSFY8qW2K"
      },
      "execution_count": null,
      "outputs": []
    },
    {
      "cell_type": "code",
      "source": [
        "model = tf.keras.models.Sequential([\n",
        "  tf.keras.layers.Flatten(input_shape=(28, 28)),\n",
        "  tf.keras.layers.Dense(128, activation='relu'),\n",
        "  tf.keras.layers.Dense(64, activation='relu'),\n",
        "  tf.keras.layers.Dense(32, activation='relu'),\n",
        "  tf.keras.layers.Dropout(0.2),\n",
        "  tf.keras.layers.Dense(10)\n",
        "])"
      ],
      "metadata": {
        "id": "IbpI8rDDmVi2"
      },
      "execution_count": null,
      "outputs": []
    },
    {
      "cell_type": "code",
      "source": [
        "predictions = model(x_train[:1]).numpy()\n",
        "predictions"
      ],
      "metadata": {
        "colab": {
          "base_uri": "https://localhost:8080/"
        },
        "id": "ad0eDUmsm7lQ",
        "outputId": "8e9a354f-7d9c-43ea-9463-9389d04076c4"
      },
      "execution_count": null,
      "outputs": [
        {
          "output_type": "execute_result",
          "data": {
            "text/plain": [
              "array([[-0.0328828 ,  0.07718077,  0.3924834 ,  0.03558382, -0.10680958,\n",
              "        -0.0690897 ,  0.47338185, -0.09752654, -0.28038833,  0.31723478]],\n",
              "      dtype=float32)"
            ]
          },
          "metadata": {},
          "execution_count": 15
        }
      ]
    },
    {
      "cell_type": "code",
      "source": [
        "tf.nn.softmax(predictions).numpy()"
      ],
      "metadata": {
        "colab": {
          "base_uri": "https://localhost:8080/"
        },
        "id": "1mjQYhmQnIRZ",
        "outputId": "676c6fff-16b6-4f59-c0a1-160f6af7bade"
      },
      "execution_count": null,
      "outputs": [
        {
          "output_type": "execute_result",
          "data": {
            "text/plain": [
              "array([[0.08766539, 0.09786517, 0.13414127, 0.09387779, 0.08141834,\n",
              "        0.08454808, 0.14544411, 0.08217766, 0.0684444 , 0.12441775]],\n",
              "      dtype=float32)"
            ]
          },
          "metadata": {},
          "execution_count": 16
        }
      ]
    },
    {
      "cell_type": "code",
      "source": [
        "loss_fn = tf.keras.losses.SparseCategoricalCrossentropy(from_logits=True)"
      ],
      "metadata": {
        "id": "tjmDCBrunnsF"
      },
      "execution_count": null,
      "outputs": []
    },
    {
      "cell_type": "code",
      "source": [
        "loss_fn(y_train[:1], predictions).numpy()"
      ],
      "metadata": {
        "colab": {
          "base_uri": "https://localhost:8080/"
        },
        "id": "Nj0L4N1EnsO5",
        "outputId": "270915c4-b02d-4fd1-e4cf-87bd4cb5951a"
      },
      "execution_count": null,
      "outputs": [
        {
          "output_type": "execute_result",
          "data": {
            "text/plain": [
              "2.470435"
            ]
          },
          "metadata": {},
          "execution_count": 18
        }
      ]
    },
    {
      "cell_type": "code",
      "source": [
        "model.compile(optimizer='adam',\n",
        "              loss=loss_fn,\n",
        "              metrics=['accuracy'])"
      ],
      "metadata": {
        "id": "PNYmgz-Xn0rK"
      },
      "execution_count": null,
      "outputs": []
    },
    {
      "cell_type": "code",
      "source": [
        "model.fit(x_train, y_train, epochs=5)"
      ],
      "metadata": {
        "colab": {
          "base_uri": "https://localhost:8080/"
        },
        "id": "3i9UYBYDn-ij",
        "outputId": "1cc56969-d9da-40a4-d926-ec8df44091ee"
      },
      "execution_count": null,
      "outputs": [
        {
          "output_type": "stream",
          "name": "stdout",
          "text": [
            "Epoch 1/5\n",
            "1875/1875 [==============================] - 12s 6ms/step - loss: 0.3220 - accuracy: 0.9051\n",
            "Epoch 2/5\n",
            "1875/1875 [==============================] - 11s 6ms/step - loss: 0.1339 - accuracy: 0.9618\n",
            "Epoch 3/5\n",
            "1875/1875 [==============================] - 10s 5ms/step - loss: 0.0969 - accuracy: 0.9722\n",
            "Epoch 4/5\n",
            "1875/1875 [==============================] - 11s 6ms/step - loss: 0.0757 - accuracy: 0.9781\n",
            "Epoch 5/5\n",
            "1875/1875 [==============================] - 11s 6ms/step - loss: 0.0633 - accuracy: 0.9813\n"
          ]
        },
        {
          "output_type": "execute_result",
          "data": {
            "text/plain": [
              "<keras.src.callbacks.History at 0x7fc6e8f53070>"
            ]
          },
          "metadata": {},
          "execution_count": 20
        }
      ]
    },
    {
      "cell_type": "code",
      "source": [
        "model.evaluate(x_test,  y_test, verbose=2)"
      ],
      "metadata": {
        "colab": {
          "base_uri": "https://localhost:8080/"
        },
        "id": "qBBO3-1GoBO6",
        "outputId": "40afb496-1144-4b69-cce1-2e36ed166600"
      },
      "execution_count": null,
      "outputs": [
        {
          "output_type": "stream",
          "name": "stdout",
          "text": [
            "313/313 - 1s - loss: 0.0938 - accuracy: 0.9726 - 824ms/epoch - 3ms/step\n"
          ]
        },
        {
          "output_type": "execute_result",
          "data": {
            "text/plain": [
              "[0.09378456324338913, 0.972599983215332]"
            ]
          },
          "metadata": {},
          "execution_count": 21
        }
      ]
    },
    {
      "cell_type": "markdown",
      "source": [
        "#  Fashion MNIST"
      ],
      "metadata": {
        "id": "oagisQL4_yIX"
      }
    },
    {
      "cell_type": "markdown",
      "source": [
        "It contains 70,000 items of clothing in 10 different categories. Each item of clothing is in a 28x28 greyscale image. You can see some examples here:\n",
        "\n",
        "![alt text](https://github.com/zalandoresearch/fashion-mnist/raw/master/doc/img/fashion-mnist-sprite.png)"
      ],
      "metadata": {
        "id": "OLYGj8D7_s3u"
      }
    },
    {
      "cell_type": "code",
      "source": [
        "fmnist = tf.keras.datasets.fashion_mnist\n",
        "(training_images, training_labels), (test_images, test_labels) = fmnist.load_data()"
      ],
      "metadata": {
        "colab": {
          "base_uri": "https://localhost:8080/"
        },
        "id": "NMfxBpfC_tfU",
        "outputId": "4f312eeb-3af6-4b87-81d2-060fbe214064"
      },
      "execution_count": 65,
      "outputs": [
        {
          "output_type": "stream",
          "name": "stdout",
          "text": [
            "Downloading data from https://storage.googleapis.com/tensorflow/tf-keras-datasets/train-labels-idx1-ubyte.gz\n",
            "29515/29515 [==============================] - 0s 0us/step\n",
            "Downloading data from https://storage.googleapis.com/tensorflow/tf-keras-datasets/train-images-idx3-ubyte.gz\n",
            "26421880/26421880 [==============================] - 1s 0us/step\n",
            "Downloading data from https://storage.googleapis.com/tensorflow/tf-keras-datasets/t10k-labels-idx1-ubyte.gz\n",
            "5148/5148 [==============================] - 0s 0us/step\n",
            "Downloading data from https://storage.googleapis.com/tensorflow/tf-keras-datasets/t10k-images-idx3-ubyte.gz\n",
            "4422102/4422102 [==============================] - 1s 0us/step\n"
          ]
        }
      ]
    },
    {
      "cell_type": "code",
      "source": [
        "# Get the shapes of the components\n",
        "print(\"Training set images shape:\", test_images.shape)\n",
        "print(\"Training set labels shape:\", training_images.shape)\n",
        "print(\"Test set images shape:\", test_labels.shape)\n",
        "print(\"Test set labels shape:\", training_labels.shape)"
      ],
      "metadata": {
        "colab": {
          "base_uri": "https://localhost:8080/"
        },
        "id": "vbSe66pgAhpt",
        "outputId": "11dd5dc7-1716-4a82-d105-3096611b2ccc"
      },
      "execution_count": 66,
      "outputs": [
        {
          "output_type": "stream",
          "name": "stdout",
          "text": [
            "Training set images shape: (10000, 28, 28)\n",
            "Training set labels shape: (60000, 28, 28)\n",
            "Test set images shape: (10000,)\n",
            "Test set labels shape: (60000,)\n"
          ]
        }
      ]
    },
    {
      "cell_type": "code",
      "source": [
        "test_images[10]"
      ],
      "metadata": {
        "colab": {
          "base_uri": "https://localhost:8080/",
          "height": 68
        },
        "id": "WvIYV-fTAynO",
        "outputId": "2b6018c0-d631-4a7b-a02b-ae3b2446b5e7"
      },
      "execution_count": 67,
      "outputs": [
        {
          "output_type": "execute_result",
          "data": {
            "text/plain": [
              "array([[  0,   0,   0,   0,   0,   0,   0,   0,   0,   0,   0, 145, 190,\n",
              "         97, 109, 105, 187,  76,   0,   0,   0,   2,   0,   0,   0,   0,\n",
              "          0,   0],\n",
              "       [  0,   0,   0,   0,   0,   0,   0,   0,   0,  64, 170, 163, 208,\n",
              "        243, 240, 229, 173, 162, 154,  18,   0,   0,   0,   0,   0,   0,\n",
              "          0,   0],\n",
              "       [  0,   0,   0,   0,   0,   0,   0,  39, 158, 196, 149, 191, 199,\n",
              "        223, 243, 186, 191, 170, 155, 162, 126,  22,   0,   0,   0,   0,\n",
              "          0,   0],\n",
              "       [  0,   0,   0,   0,   3,   0, 105, 161, 150, 141, 130, 199, 239,\n",
              "        229, 220, 188, 244, 145, 128, 142, 151, 175,  23,   0,   2,   0,\n",
              "          0,   0],\n",
              "       [  0,   0,   0,   0,   0,   0, 150, 137, 134, 130, 147, 121, 241,\n",
              "        255, 114, 240, 173, 142, 136, 132, 128, 153, 113,   0,   0,   0,\n",
              "          0,   0],\n",
              "       [  0,   0,   0,   0,   0,  17, 157, 129, 146, 149, 137, 141, 177,\n",
              "        200, 200, 207, 134, 145, 142, 140, 132, 129, 140,   3,   0,   0,\n",
              "          0,   0],\n",
              "       [  0,   0,   0,   0,   0,  50, 158, 137, 153, 150, 125, 155, 191,\n",
              "        175, 141, 165, 166, 153, 130, 129, 132, 141, 149,  18,   0,   0,\n",
              "          0,   0],\n",
              "       [  0,   0,   0,   0,   0,  77, 166, 161, 137, 151, 166, 181, 216,\n",
              "        182, 158, 215, 195, 155, 159, 162, 173, 150, 150,  58,   0,   0,\n",
              "          0,   0],\n",
              "       [  0,   0,   0,   0,   0, 104, 159, 170, 140, 132, 182, 198, 208,\n",
              "        175, 136, 174, 169, 147, 155, 121, 188, 162, 142, 101,   0,   0,\n",
              "          0,   0],\n",
              "       [  0,   0,   0,   0,   0, 112, 171, 206, 179, 147, 163, 177, 196,\n",
              "        192, 146, 187, 153, 142, 144, 136, 245, 202, 132, 137,   0,   0,\n",
              "          0,   0],\n",
              "       [  0,   0,   0,   0,   0, 126, 181, 219, 146, 157, 128, 121, 175,\n",
              "        196, 104, 157, 158, 151, 140, 103,  89, 221, 141, 153,   0,   0,\n",
              "          0,   0],\n",
              "       [  0,   0,   0,   0,   0, 157, 175, 216,  55, 175, 153, 151, 188,\n",
              "        214, 126, 204, 159, 145, 145, 116,  71, 212, 154, 155,   0,   0,\n",
              "          0,   0],\n",
              "       [  0,   0,   0,   0,   0, 183, 163, 232,  64, 138, 142, 182, 195,\n",
              "        200, 158, 231, 146, 130, 161, 132, 105, 225, 146, 157,  10,   0,\n",
              "          0,   0],\n",
              "       [  0,   0,   0,   0,   6, 188, 161, 221,  54, 149, 165, 151, 167,\n",
              "        188, 170, 181, 154, 141, 130, 144,  93, 207, 166, 142,  34,   0,\n",
              "          0,   0],\n",
              "       [  0,   0,   0,   0,  42, 182, 165, 236,  29, 146, 170, 141, 166,\n",
              "        208, 124, 162, 173, 154, 132, 140,  97, 194, 153, 161,  47,   0,\n",
              "          0,   0],\n",
              "       [  0,   0,   0,   0,  58, 175, 171, 191,   5, 173, 162, 154, 181,\n",
              "        207, 100, 161, 179, 155, 146, 149,  76, 192, 162, 150,  62,   0,\n",
              "          0,   0],\n",
              "       [  0,   0,   0,   0,  80, 179, 166, 167,  10, 182, 151, 157, 178,\n",
              "        184, 166, 208, 174, 138, 146, 140,  73, 186, 161, 155,  71,   0,\n",
              "          0,   0],\n",
              "       [  0,   0,   0,   0, 100, 165, 171, 138,  51, 194, 157, 133, 187,\n",
              "        196, 166, 198, 163, 129, 142, 134,  73, 191, 154, 155,  79,   0,\n",
              "          0,   0],\n",
              "       [  0,   0,   0,   0, 109, 158, 175, 118,  73, 179, 146, 149, 183,\n",
              "        207, 141, 184, 171, 153, 137, 147,  73, 195, 157, 154,  85,   0,\n",
              "          0,   0],\n",
              "       [  0,   0,   0,   0, 109, 163, 179, 122, 116, 177, 144, 165, 182,\n",
              "        190, 147, 179, 162, 146, 133, 153,  97, 161, 158, 150,  95,   0,\n",
              "          0,   0],\n",
              "       [  0,   0,   0,   0, 107, 158, 167, 163, 105, 137, 161, 163, 203,\n",
              "        199, 149, 181, 167, 161, 147, 147,  99, 166, 157, 141,  99,   0,\n",
              "          0,   0],\n",
              "       [  0,   0,   0,   0, 109, 154, 166, 145,   0,  34,  84,  63, 107,\n",
              "        149, 132, 153, 129, 124, 149,  56,   0, 114, 159, 141,  97,   0,\n",
              "          0,   0],\n",
              "       [  0,   0,   0,   0, 108, 154, 169,  85,   0,   0,   0,   0,   0,\n",
              "          0,   2,   9,   0,   0,   0,   0,   0,  93, 157, 142,  99,   0,\n",
              "          0,   0],\n",
              "       [  0,   0,   0,   0, 101, 153, 169,  80,   0,   3,   0,   1,   0,\n",
              "          0,   0,   0,   0,   0,   0,   1,   0,  80, 155, 144, 105,   0,\n",
              "          0,   0],\n",
              "       [  0,   0,   0,   0, 121, 157, 166,  76,   0,   3,   0,   0,   1,\n",
              "          0,   0,   0,   0,   0,   0,   3,   0,  67, 162, 141, 100,   0,\n",
              "          0,   0],\n",
              "       [  0,   0,   0,   0, 124, 153, 162,  51,   0,   3,   0,   0,   0,\n",
              "          0,   0,   1,   0,   1,   0,   5,   0,  58, 167, 146,  87,   0,\n",
              "          0,   0],\n",
              "       [  0,   0,   0,   0, 122, 165, 181,  54,   0,   5,   0,   0,   0,\n",
              "          0,   0,   0,   0,   0,   0,   5,   0,  54, 170, 140,  75,   0,\n",
              "          0,   0],\n",
              "       [  0,   0,   0,   0,  25,  75,  92,   3,   0,   1,   0,   0,   0,\n",
              "          0,   0,   0,   0,   0,   0,   3,   0,  29, 145, 137,  59,   0,\n",
              "          0,   0]], dtype=uint8)"
            ],
            "text/html": [
              "<style>\n",
              "      .ndarray_repr .ndarray_raw_data {\n",
              "        display: none;\n",
              "      }\n",
              "      .ndarray_repr.show_array .ndarray_raw_data {\n",
              "        display: block;\n",
              "      }\n",
              "      .ndarray_repr.show_array .ndarray_image_preview {\n",
              "        display: none;\n",
              "      }\n",
              "      </style>\n",
              "      <div id=\"id-9b72ad10-17f9-42ed-9b39-a23875ce044e\" class=\"ndarray_repr\"><pre>ndarray (28, 28) <button style=\"padding: 0 2px;\">show data</button></pre><img src=\"data:image/png;base64,iVBORw0KGgoAAAANSUhEUgAAABwAAAAcCAAAAABXZoBIAAACNUlEQVR4nE3Sy27TQBQG4H/GHl8SO7ab0CaNSi9UtGmJKlWwYId4BBYsWLOBFwDxFt1wWbGoeAHEhh1IIMoCJEBqQUCrcrNbN2nS2LEdj20W1A6znE9n5hydn2B8NtqbGr+28QygKQCAFHTldtQ+l/hbfni3e3qV49Kd8x9WlHrtDXP78reHhwAACgACbt0L33aUZemAXrJ/HzUeTYHmmKDt9HzrKZ2+f/F5ogwPDm8gBSACACzZtQSv9mLq+t6XsiSGTlNI8krME0UmXqViv96eUzwfmmoUf6Kp1HukNd2QrfUZOjPfUsnyfxipQse0wuhw50/IdwwtXB2joi0uGR3Xs0p6L/aNy8vDxTFWSvpe6fuWK27/YCrfu1lVzTHOjpInE42z+sTkGhkxvRvodIzTnql+9Wflk7nmoG+aC3pISzlKLPWH5an9X572Xinva1631q/nuDgSDTthw6z2sVPVKRcHg6qeoxlJn5xmqBuZk0mkorqp6hs5Toqxw1RfSA6ursXHCJJRxtQcayfsZ0uTHFXD0A/4CCyCkqMaiUeTfd/kZftEqcc6RCGTilGYKK6mqZkdS3EQcam+S3gxShp7Lf+zlZ5RKWVGZURZFoj5PinPug8W1t0LK8eiEzc2t4z2eNkZhFfY3cVLUDkAADclRUyiDDEEECANABAMUlo0VBMTDiA7jSLFQE7iIn2c2/+eBwEBRcDYoOhWqwqnQ2XIAHBh5OUNPV633oEX2U9h20kPwF+B4OJ1nuRI+QAAAABJRU5ErkJggg==\" class=\"ndarray_image_preview\" /><pre class=\"ndarray_raw_data\">array([[  0,   0,   0,   0,   0,   0,   0,   0,   0,   0,   0, 145, 190,\n",
              "         97, 109, 105, 187,  76,   0,   0,   0,   2,   0,   0,   0,   0,\n",
              "          0,   0],\n",
              "       [  0,   0,   0,   0,   0,   0,   0,   0,   0,  64, 170, 163, 208,\n",
              "        243, 240, 229, 173, 162, 154,  18,   0,   0,   0,   0,   0,   0,\n",
              "          0,   0],\n",
              "       [  0,   0,   0,   0,   0,   0,   0,  39, 158, 196, 149, 191, 199,\n",
              "        223, 243, 186, 191, 170, 155, 162, 126,  22,   0,   0,   0,   0,\n",
              "          0,   0],\n",
              "       [  0,   0,   0,   0,   3,   0, 105, 161, 150, 141, 130, 199, 239,\n",
              "        229, 220, 188, 244, 145, 128, 142, 151, 175,  23,   0,   2,   0,\n",
              "          0,   0],\n",
              "       [  0,   0,   0,   0,   0,   0, 150, 137, 134, 130, 147, 121, 241,\n",
              "        255, 114, 240, 173, 142, 136, 132, 128, 153, 113,   0,   0,   0,\n",
              "          0,   0],\n",
              "       [  0,   0,   0,   0,   0,  17, 157, 129, 146, 149, 137, 141, 177,\n",
              "        200, 200, 207, 134, 145, 142, 140, 132, 129, 140,   3,   0,   0,\n",
              "          0,   0],\n",
              "       [  0,   0,   0,   0,   0,  50, 158, 137, 153, 150, 125, 155, 191,\n",
              "        175, 141, 165, 166, 153, 130, 129, 132, 141, 149,  18,   0,   0,\n",
              "          0,   0],\n",
              "       [  0,   0,   0,   0,   0,  77, 166, 161, 137, 151, 166, 181, 216,\n",
              "        182, 158, 215, 195, 155, 159, 162, 173, 150, 150,  58,   0,   0,\n",
              "          0,   0],\n",
              "       [  0,   0,   0,   0,   0, 104, 159, 170, 140, 132, 182, 198, 208,\n",
              "        175, 136, 174, 169, 147, 155, 121, 188, 162, 142, 101,   0,   0,\n",
              "          0,   0],\n",
              "       [  0,   0,   0,   0,   0, 112, 171, 206, 179, 147, 163, 177, 196,\n",
              "        192, 146, 187, 153, 142, 144, 136, 245, 202, 132, 137,   0,   0,\n",
              "          0,   0],\n",
              "       [  0,   0,   0,   0,   0, 126, 181, 219, 146, 157, 128, 121, 175,\n",
              "        196, 104, 157, 158, 151, 140, 103,  89, 221, 141, 153,   0,   0,\n",
              "          0,   0],\n",
              "       [  0,   0,   0,   0,   0, 157, 175, 216,  55, 175, 153, 151, 188,\n",
              "        214, 126, 204, 159, 145, 145, 116,  71, 212, 154, 155,   0,   0,\n",
              "          0,   0],\n",
              "       [  0,   0,   0,   0,   0, 183, 163, 232,  64, 138, 142, 182, 195,\n",
              "        200, 158, 231, 146, 130, 161, 132, 105, 225, 146, 157,  10,   0,\n",
              "          0,   0],\n",
              "       [  0,   0,   0,   0,   6, 188, 161, 221,  54, 149, 165, 151, 167,\n",
              "        188, 170, 181, 154, 141, 130, 144,  93, 207, 166, 142,  34,   0,\n",
              "          0,   0],\n",
              "       [  0,   0,   0,   0,  42, 182, 165, 236,  29, 146, 170, 141, 166,\n",
              "        208, 124, 162, 173, 154, 132, 140,  97, 194, 153, 161,  47,   0,\n",
              "          0,   0],\n",
              "       [  0,   0,   0,   0,  58, 175, 171, 191,   5, 173, 162, 154, 181,\n",
              "        207, 100, 161, 179, 155, 146, 149,  76, 192, 162, 150,  62,   0,\n",
              "          0,   0],\n",
              "       [  0,   0,   0,   0,  80, 179, 166, 167,  10, 182, 151, 157, 178,\n",
              "        184, 166, 208, 174, 138, 146, 140,  73, 186, 161, 155,  71,   0,\n",
              "          0,   0],\n",
              "       [  0,   0,   0,   0, 100, 165, 171, 138,  51, 194, 157, 133, 187,\n",
              "        196, 166, 198, 163, 129, 142, 134,  73, 191, 154, 155,  79,   0,\n",
              "          0,   0],\n",
              "       [  0,   0,   0,   0, 109, 158, 175, 118,  73, 179, 146, 149, 183,\n",
              "        207, 141, 184, 171, 153, 137, 147,  73, 195, 157, 154,  85,   0,\n",
              "          0,   0],\n",
              "       [  0,   0,   0,   0, 109, 163, 179, 122, 116, 177, 144, 165, 182,\n",
              "        190, 147, 179, 162, 146, 133, 153,  97, 161, 158, 150,  95,   0,\n",
              "          0,   0],\n",
              "       [  0,   0,   0,   0, 107, 158, 167, 163, 105, 137, 161, 163, 203,\n",
              "        199, 149, 181, 167, 161, 147, 147,  99, 166, 157, 141,  99,   0,\n",
              "          0,   0],\n",
              "       [  0,   0,   0,   0, 109, 154, 166, 145,   0,  34,  84,  63, 107,\n",
              "        149, 132, 153, 129, 124, 149,  56,   0, 114, 159, 141,  97,   0,\n",
              "          0,   0],\n",
              "       [  0,   0,   0,   0, 108, 154, 169,  85,   0,   0,   0,   0,   0,\n",
              "          0,   2,   9,   0,   0,   0,   0,   0,  93, 157, 142,  99,   0,\n",
              "          0,   0],\n",
              "       [  0,   0,   0,   0, 101, 153, 169,  80,   0,   3,   0,   1,   0,\n",
              "          0,   0,   0,   0,   0,   0,   1,   0,  80, 155, 144, 105,   0,\n",
              "          0,   0],\n",
              "       [  0,   0,   0,   0, 121, 157, 166,  76,   0,   3,   0,   0,   1,\n",
              "          0,   0,   0,   0,   0,   0,   3,   0,  67, 162, 141, 100,   0,\n",
              "          0,   0],\n",
              "       [  0,   0,   0,   0, 124, 153, 162,  51,   0,   3,   0,   0,   0,\n",
              "          0,   0,   1,   0,   1,   0,   5,   0,  58, 167, 146,  87,   0,\n",
              "          0,   0],\n",
              "       [  0,   0,   0,   0, 122, 165, 181,  54,   0,   5,   0,   0,   0,\n",
              "          0,   0,   0,   0,   0,   0,   5,   0,  54, 170, 140,  75,   0,\n",
              "          0,   0],\n",
              "       [  0,   0,   0,   0,  25,  75,  92,   3,   0,   1,   0,   0,   0,\n",
              "          0,   0,   0,   0,   0,   0,   3,   0,  29, 145, 137,  59,   0,\n",
              "          0,   0]], dtype=uint8)</pre></div><script>\n",
              "      (() => {\n",
              "      const titles = ['show data', 'hide data'];\n",
              "      let index = 0\n",
              "      document.querySelector('#id-9b72ad10-17f9-42ed-9b39-a23875ce044e button').onclick = (e) => {\n",
              "        document.querySelector('#id-9b72ad10-17f9-42ed-9b39-a23875ce044e').classList.toggle('show_array');\n",
              "        index = (++index) % 2;\n",
              "        document.querySelector('#id-9b72ad10-17f9-42ed-9b39-a23875ce044e button').textContent = titles[index];\n",
              "        e.preventDefault();\n",
              "        e.stopPropagation();\n",
              "      }\n",
              "      })();\n",
              "    </script>"
            ]
          },
          "metadata": {},
          "execution_count": 67
        }
      ]
    },
    {
      "cell_type": "code",
      "source": [
        "training_images  = training_images / 255.0\n",
        "test_images = test_images / 255.0"
      ],
      "metadata": {
        "id": "IcIFPOO2CDoQ"
      },
      "execution_count": 70,
      "outputs": []
    },
    {
      "cell_type": "code",
      "source": [
        "model = tf.keras.models.Sequential([tf.keras.layers.Flatten(),\n",
        "                                    tf.keras.layers.Dense(128, activation=tf.nn.relu),\n",
        "                                    tf.keras.layers.Dense(10, activation=tf.nn.softmax)])"
      ],
      "metadata": {
        "id": "ksnt-c4JCKJy"
      },
      "execution_count": 71,
      "outputs": []
    },
    {
      "cell_type": "code",
      "source": [
        "model.compile(optimizer = tf.keras.optimizers.Adam(),\n",
        "              loss = 'sparse_categorical_crossentropy',\n",
        "              metrics=['accuracy'])\n",
        "\n",
        "history= model.fit(training_images, training_labels, epochs=50)"
      ],
      "metadata": {
        "colab": {
          "base_uri": "https://localhost:8080/"
        },
        "id": "nT92Vh2mCNdz",
        "outputId": "52ee55bf-41d5-4c7d-c70d-8502ba26fbf6"
      },
      "execution_count": 79,
      "outputs": [
        {
          "output_type": "stream",
          "name": "stdout",
          "text": [
            "Epoch 1/50\n",
            "1875/1875 [==============================] - 10s 5ms/step - loss: 0.2297 - accuracy: 0.9150\n",
            "Epoch 2/50\n",
            "1875/1875 [==============================] - 8s 4ms/step - loss: 0.2205 - accuracy: 0.9166\n",
            "Epoch 3/50\n",
            "1875/1875 [==============================] - 9s 5ms/step - loss: 0.2148 - accuracy: 0.9200\n",
            "Epoch 4/50\n",
            "1875/1875 [==============================] - 11s 6ms/step - loss: 0.2096 - accuracy: 0.9204\n",
            "Epoch 5/50\n",
            "1875/1875 [==============================] - 8s 4ms/step - loss: 0.2043 - accuracy: 0.9230\n",
            "Epoch 6/50\n",
            "1875/1875 [==============================] - 9s 5ms/step - loss: 0.1972 - accuracy: 0.9258\n",
            "Epoch 7/50\n",
            "1875/1875 [==============================] - 9s 5ms/step - loss: 0.1923 - accuracy: 0.9276\n",
            "Epoch 8/50\n",
            "1875/1875 [==============================] - 8s 4ms/step - loss: 0.1872 - accuracy: 0.9288\n",
            "Epoch 9/50\n",
            "1875/1875 [==============================] - 9s 5ms/step - loss: 0.1826 - accuracy: 0.9311\n",
            "Epoch 10/50\n",
            "1875/1875 [==============================] - 9s 5ms/step - loss: 0.1788 - accuracy: 0.9327\n",
            "Epoch 11/50\n",
            "1875/1875 [==============================] - 9s 5ms/step - loss: 0.1747 - accuracy: 0.9338\n",
            "Epoch 12/50\n",
            "1875/1875 [==============================] - 9s 5ms/step - loss: 0.1687 - accuracy: 0.9367\n",
            "Epoch 13/50\n",
            "1875/1875 [==============================] - 9s 5ms/step - loss: 0.1657 - accuracy: 0.9368\n",
            "Epoch 14/50\n",
            "1875/1875 [==============================] - 9s 5ms/step - loss: 0.1625 - accuracy: 0.9391\n",
            "Epoch 15/50\n",
            "1875/1875 [==============================] - 8s 4ms/step - loss: 0.1580 - accuracy: 0.9406\n",
            "Epoch 16/50\n",
            "1875/1875 [==============================] - 9s 5ms/step - loss: 0.1545 - accuracy: 0.9413\n",
            "Epoch 17/50\n",
            "1875/1875 [==============================] - 9s 5ms/step - loss: 0.1504 - accuracy: 0.9437\n",
            "Epoch 18/50\n",
            "1875/1875 [==============================] - 7s 4ms/step - loss: 0.1484 - accuracy: 0.9447\n",
            "Epoch 19/50\n",
            "1875/1875 [==============================] - 9s 5ms/step - loss: 0.1461 - accuracy: 0.9448\n",
            "Epoch 20/50\n",
            "1875/1875 [==============================] - 10s 5ms/step - loss: 0.1407 - accuracy: 0.9471\n",
            "Epoch 21/50\n",
            "1875/1875 [==============================] - 9s 5ms/step - loss: 0.1391 - accuracy: 0.9470\n",
            "Epoch 22/50\n",
            "1875/1875 [==============================] - 9s 5ms/step - loss: 0.1357 - accuracy: 0.9478\n",
            "Epoch 23/50\n",
            "1875/1875 [==============================] - 9s 5ms/step - loss: 0.1327 - accuracy: 0.9502\n",
            "Epoch 24/50\n",
            "1875/1875 [==============================] - 8s 4ms/step - loss: 0.1324 - accuracy: 0.9503\n",
            "Epoch 25/50\n",
            "1875/1875 [==============================] - 8s 4ms/step - loss: 0.1264 - accuracy: 0.9534\n",
            "Epoch 26/50\n",
            "1875/1875 [==============================] - 9s 5ms/step - loss: 0.1255 - accuracy: 0.9527\n",
            "Epoch 27/50\n",
            "1875/1875 [==============================] - 9s 5ms/step - loss: 0.1242 - accuracy: 0.9527\n",
            "Epoch 28/50\n",
            "1875/1875 [==============================] - 9s 5ms/step - loss: 0.1205 - accuracy: 0.9542\n",
            "Epoch 29/50\n",
            "1875/1875 [==============================] - 9s 5ms/step - loss: 0.1187 - accuracy: 0.9545\n",
            "Epoch 30/50\n",
            "1875/1875 [==============================] - 9s 5ms/step - loss: 0.1156 - accuracy: 0.9567\n",
            "Epoch 31/50\n",
            "1875/1875 [==============================] - 8s 4ms/step - loss: 0.1154 - accuracy: 0.9563\n",
            "Epoch 32/50\n",
            "1875/1875 [==============================] - 9s 5ms/step - loss: 0.1117 - accuracy: 0.9569\n",
            "Epoch 33/50\n",
            "1875/1875 [==============================] - 9s 5ms/step - loss: 0.1104 - accuracy: 0.9583\n",
            "Epoch 34/50\n",
            "1875/1875 [==============================] - 8s 4ms/step - loss: 0.1095 - accuracy: 0.9588\n",
            "Epoch 35/50\n",
            "1875/1875 [==============================] - 9s 5ms/step - loss: 0.1068 - accuracy: 0.9592\n",
            "Epoch 36/50\n",
            "1875/1875 [==============================] - 9s 5ms/step - loss: 0.1046 - accuracy: 0.9607\n",
            "Epoch 37/50\n",
            "1875/1875 [==============================] - 8s 4ms/step - loss: 0.1039 - accuracy: 0.9609\n",
            "Epoch 38/50\n",
            "1875/1875 [==============================] - 9s 5ms/step - loss: 0.1026 - accuracy: 0.9611\n",
            "Epoch 39/50\n",
            "1875/1875 [==============================] - 9s 5ms/step - loss: 0.1007 - accuracy: 0.9618\n",
            "Epoch 40/50\n",
            "1875/1875 [==============================] - 8s 4ms/step - loss: 0.1006 - accuracy: 0.9618\n",
            "Epoch 41/50\n",
            "1875/1875 [==============================] - 9s 5ms/step - loss: 0.0969 - accuracy: 0.9637\n",
            "Epoch 42/50\n",
            "1875/1875 [==============================] - 9s 5ms/step - loss: 0.0980 - accuracy: 0.9637\n",
            "Epoch 43/50\n",
            "1875/1875 [==============================] - 8s 4ms/step - loss: 0.0936 - accuracy: 0.9643\n",
            "Epoch 44/50\n",
            "1875/1875 [==============================] - 9s 5ms/step - loss: 0.0926 - accuracy: 0.9643\n",
            "Epoch 45/50\n",
            "1875/1875 [==============================] - 9s 5ms/step - loss: 0.0908 - accuracy: 0.9652\n",
            "Epoch 46/50\n",
            "1875/1875 [==============================] - 8s 4ms/step - loss: 0.0886 - accuracy: 0.9668\n",
            "Epoch 47/50\n",
            "1875/1875 [==============================] - 9s 5ms/step - loss: 0.0903 - accuracy: 0.9657\n",
            "Epoch 48/50\n",
            "1875/1875 [==============================] - 9s 5ms/step - loss: 0.0874 - accuracy: 0.9679\n",
            "Epoch 49/50\n",
            "1875/1875 [==============================] - 8s 4ms/step - loss: 0.0863 - accuracy: 0.9682\n",
            "Epoch 50/50\n",
            "1875/1875 [==============================] - 9s 5ms/step - loss: 0.0835 - accuracy: 0.9692\n"
          ]
        }
      ]
    },
    {
      "cell_type": "code",
      "source": [
        "# evaluate model\n",
        "score = model.evaluate(test_images, test_labels, verbose=1)\n",
        "\n",
        "# print performance\n",
        "print()\n",
        "print('Test loss:', score[0])\n",
        "print('Test accuracy:', score[1])\n",
        "\n",
        "# look into training history\n",
        "\n",
        "# summarize history for accuracy\n",
        "plt.plot(history.history['accuracy'])\n",
        "#plt.plot(history.history['val_accuracy'])\n",
        "plt.ylabel('model accuracy')\n",
        "plt.xlabel('epoch')\n",
        "plt.legend(['train', 'test'], loc='best')\n",
        "plt.show()\n",
        "\n",
        "# summarize history for loss\n",
        "plt.plot(history.history['loss'])\n",
        "#plt.plot(history.history['val_loss'])\n",
        "plt.ylabel('model loss')\n",
        "plt.xlabel('epoch')\n",
        "plt.legend(['train', 'test'], loc='best')\n",
        "plt.show()"
      ],
      "metadata": {
        "colab": {
          "base_uri": "https://localhost:8080/",
          "height": 950
        },
        "id": "2_ehQx-zCQom",
        "outputId": "3245cf0b-0204-4538-f8ba-53323437c4ad"
      },
      "execution_count": 80,
      "outputs": [
        {
          "output_type": "stream",
          "name": "stdout",
          "text": [
            "313/313 [==============================] - 1s 2ms/step - loss: 0.5777 - accuracy: 0.8775\n",
            "\n",
            "Test loss: 0.5777395367622375\n",
            "Test accuracy: 0.8774999976158142\n"
          ]
        },
        {
          "output_type": "display_data",
          "data": {
            "text/plain": [
              "<Figure size 640x480 with 1 Axes>"
            ],
            "image/png": "[encoded data removed]"
          },
          "metadata": {}
        },
        {
          "output_type": "display_data",
          "data": {
            "text/plain": [
              "<Figure size 640x480 with 1 Axes>"
            ],
            "image/png": "[encoded data removed]"
          },
          "metadata": {}
        }
      ]
    },
    {
      "cell_type": "code",
      "source": [],
      "metadata": {
        "id": "-8cV_PBQCj6a"
      },
      "execution_count": 80,
      "outputs": []
    }
  ]
}